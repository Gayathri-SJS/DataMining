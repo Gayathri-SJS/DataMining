{
 "cells": [
  {
   "cell_type": "markdown",
   "id": "89487d72-d81f-4cce-a19f-795d6c1aaec6",
   "metadata": {},
   "source": [
    "**Imports**"
   ]
  },
  {
   "cell_type": "code",
   "execution_count": 1,
   "id": "11a2b60e-d9c0-4d5d-b375-271ec2e6ceff",
   "metadata": {
    "tags": []
   },
   "outputs": [
    {
     "name": "stderr",
     "output_type": "stream",
     "text": [
      "[nltk_data] Downloading package punkt to\n",
      "[nltk_data]     /Users/gayathrisjs/nltk_data...\n",
      "[nltk_data]   Package punkt is already up-to-date!\n",
      "[nltk_data] Downloading package stopwords to\n",
      "[nltk_data]     /Users/gayathrisjs/nltk_data...\n",
      "[nltk_data]   Package stopwords is already up-to-date!\n",
      "/var/folders/8n/_zjkyv9n797_9m5r9rhdczvc0000gn/T/ipykernel_21347/2555665412.py:29: DeprecationWarning: `import kerastuner` is deprecated, please use `import keras_tuner`.\n",
      "  from kerastuner.tuners import GridSearch\n"
     ]
    }
   ],
   "source": [
    "import numpy as np\n",
    "import random\n",
    "from tqdm import tqdm\n",
    "import pandas as pd\n",
    "from sklearn import tree\n",
    "from sklearn.model_selection import KFold, GridSearchCV, train_test_split\n",
    "from sklearn.model_selection import StratifiedKFold\n",
    "from keras.models import Sequential,Model\n",
    "from keras.layers import Input, Dense\n",
    "from tensorflow.keras.optimizers import SGD, Adam, RMSprop\n",
    "\n",
    "from sklearn.metrics import accuracy_score, precision_score, recall_score, f1_score, confusion_matrix\n",
    "import string\n",
    "import nltk\n",
    "nltk.download('punkt')\n",
    "nltk.download('stopwords')\n",
    "from nltk.corpus import stopwords\n",
    "from nltk.stem.porter import *\n",
    "import matplotlib.pyplot as plt\n",
    "from sklearn.feature_extraction.text import CountVectorizer\n",
    "import tensorflow as tf\n",
    "import spacy\n",
    "from sklearn.preprocessing import LabelEncoder\n",
    "from tensorflow.keras.utils import to_categorical\n",
    "from sklearn.feature_extraction.text import TfidfVectorizer\n",
    "import torch\n",
    "from transformers import BertTokenizer, BertModel\n",
    "\n",
    "from kerastuner.tuners import GridSearch"
   ]
  },
  {
   "cell_type": "code",
   "execution_count": 2,
   "id": "1efbf604-894f-4dc5-813b-8a9ed590b143",
   "metadata": {
    "tags": []
   },
   "outputs": [],
   "source": [
    "def get_dict(fpath):\n",
    "    dictionary = {}\n",
    "\n",
    "\n",
    "    with open(fpath, \"r\") as f:\n",
    "        for i, word in enumerate(f):\n",
    "            dictionary[word.strip()] = i\n",
    "\n",
    "    return dictionary\n",
    "\n"
   ]
  },
  {
   "cell_type": "code",
   "execution_count": 3,
   "id": "eaf0367b-ba89-4e97-b6f8-e2e941ffb5f4",
   "metadata": {
    "tags": []
   },
   "outputs": [],
   "source": [
    "data = pd.read_csv('24_train.csv')\n",
    "test = pd.read_csv('news-test.csv')\n",
    "dictionary = get_dict(\"dictionary.txt\")\n",
    "result=[]"
   ]
  },
  {
   "cell_type": "markdown",
   "id": "5e414909-dc9b-4fe4-943b-98f1e8bba9cf",
   "metadata": {},
   "source": [
    "**One Hot Encoding of Category column**"
   ]
  },
  {
   "cell_type": "code",
   "execution_count": 4,
   "id": "132b926f-f949-4534-906b-d4a2ee137c31",
   "metadata": {
    "tags": []
   },
   "outputs": [
    {
     "name": "stdout",
     "output_type": "stream",
     "text": [
      "3\n"
     ]
    }
   ],
   "source": [
    "\n",
    "label_encoder = LabelEncoder()\n",
    "y_train_encoded = label_encoder.fit_transform(data['Category'])\n",
    "print(y_train_encoded[2])\n",
    "# Now, convert the integer labels to one-hot encoding\n",
    "y_train_one_hot = to_categorical(y_train_encoded, num_classes=5)\n"
   ]
  },
  {
   "cell_type": "markdown",
   "id": "861c0f1d-729c-4e4a-b9c6-1b74f7cf9c97",
   "metadata": {},
   "source": [
    "**Count Vectorizer**"
   ]
  },
  {
   "cell_type": "code",
   "execution_count": 5,
   "id": "f253d3eb-d51a-4dc7-9908-4fda56243d9a",
   "metadata": {
    "tags": []
   },
   "outputs": [],
   "source": [
    "ngram_vectorizer = CountVectorizer(ngram_range=(1, 2),vocabulary=dictionary)\n",
    "feature = ngram_vectorizer.fit_transform(data['Text']).toarray()\n",
    "data['CountVector'] = list(feature)\n",
    "test['CountVector'] = list(ngram_vectorizer.fit_transform(test['Text']).toarray())"
   ]
  },
  {
   "cell_type": "code",
   "execution_count": 6,
   "id": "b417a444-87cb-4f5d-8e72-7307b87a4c74",
   "metadata": {
    "tags": []
   },
   "outputs": [
    {
     "data": {
      "text/plain": [
       "(735, 1000)"
      ]
     },
     "execution_count": 6,
     "metadata": {},
     "output_type": "execute_result"
    }
   ],
   "source": [
    "ngram_vectorizer.fit_transform(test['Text']).toarray().shape"
   ]
  },
  {
   "cell_type": "code",
   "execution_count": 7,
   "id": "12be903d-59da-4981-b34c-39c8fdbc0388",
   "metadata": {
    "tags": []
   },
   "outputs": [
    {
     "data": {
      "text/plain": [
       "1000"
      ]
     },
     "execution_count": 7,
     "metadata": {},
     "output_type": "execute_result"
    }
   ],
   "source": [
    "len(ngram_vectorizer.get_feature_names_out())"
   ]
  },
  {
   "cell_type": "markdown",
   "id": "37a6a0b1-ec5e-471f-9677-dece04436724",
   "metadata": {},
   "source": [
    "**Training and Validating Neural Network**\n",
    "\n",
    "Create and train a neural network with 2 hidden layers and validate it using 5 fold validation. Store the accuraries in result."
   ]
  },
  {
   "cell_type": "code",
   "execution_count": 8,
   "id": "92168267-af45-4751-9cc8-882f88b36fde",
   "metadata": {
    "tags": []
   },
   "outputs": [
    {
     "name": "stdout",
     "output_type": "stream",
     "text": [
      "Epoch 1/10\n",
      "25/25 [==============================] - 0s 612us/step - loss: 1.1471 - accuracy: 0.6363\n",
      "Epoch 2/10\n",
      "25/25 [==============================] - 0s 622us/step - loss: 0.3053 - accuracy: 0.9588\n",
      "Epoch 3/10\n",
      "25/25 [==============================] - 0s 645us/step - loss: 0.0839 - accuracy: 0.9887\n",
      "Epoch 4/10\n",
      "25/25 [==============================] - 0s 607us/step - loss: 0.0292 - accuracy: 0.9987\n",
      "Epoch 5/10\n",
      "25/25 [==============================] - 0s 720us/step - loss: 0.0136 - accuracy: 1.0000\n",
      "Epoch 6/10\n",
      "25/25 [==============================] - 0s 614us/step - loss: 0.0082 - accuracy: 1.0000\n",
      "Epoch 7/10\n",
      "25/25 [==============================] - 0s 659us/step - loss: 0.0054 - accuracy: 1.0000\n",
      "Epoch 8/10\n",
      "25/25 [==============================] - 0s 644us/step - loss: 0.0040 - accuracy: 1.0000\n",
      "Epoch 9/10\n",
      "25/25 [==============================] - 0s 624us/step - loss: 0.0031 - accuracy: 1.0000\n",
      "Epoch 10/10\n",
      "25/25 [==============================] - 0s 667us/step - loss: 0.0025 - accuracy: 1.0000\n",
      "7/7 [==============================] - 0s 665us/step - loss: 0.1822 - accuracy: 0.9400\n",
      "Epoch 1/10\n",
      "25/25 [==============================] - 0s 1ms/step - loss: 1.0964 - accuracy: 0.6350\n",
      "Epoch 2/10\n",
      "25/25 [==============================] - 0s 1ms/step - loss: 0.3055 - accuracy: 0.9463\n",
      "Epoch 3/10\n",
      "25/25 [==============================] - 0s 809us/step - loss: 0.0922 - accuracy: 0.9875\n",
      "Epoch 4/10\n",
      "25/25 [==============================] - 0s 987us/step - loss: 0.0353 - accuracy: 0.9975\n",
      "Epoch 5/10\n",
      "25/25 [==============================] - 0s 1ms/step - loss: 0.0164 - accuracy: 1.0000\n",
      "Epoch 6/10\n",
      "25/25 [==============================] - 0s 1ms/step - loss: 0.0089 - accuracy: 1.0000\n",
      "Epoch 7/10\n",
      "25/25 [==============================] - 0s 987us/step - loss: 0.0060 - accuracy: 1.0000\n",
      "Epoch 8/10\n",
      "25/25 [==============================] - 0s 1ms/step - loss: 0.0042 - accuracy: 1.0000\n",
      "Epoch 9/10\n",
      "25/25 [==============================] - 0s 776us/step - loss: 0.0032 - accuracy: 1.0000\n",
      "Epoch 10/10\n",
      "25/25 [==============================] - 0s 1ms/step - loss: 0.0025 - accuracy: 1.0000\n",
      "7/7 [==============================] - 0s 995us/step - loss: 0.2347 - accuracy: 0.9400\n",
      "Epoch 1/10\n",
      "25/25 [==============================] - 0s 769us/step - loss: 1.1835 - accuracy: 0.6450\n",
      "Epoch 2/10\n",
      "25/25 [==============================] - 0s 818us/step - loss: 0.3102 - accuracy: 0.9550\n",
      "Epoch 3/10\n",
      "25/25 [==============================] - 0s 790us/step - loss: 0.0870 - accuracy: 0.9862\n",
      "Epoch 4/10\n",
      "25/25 [==============================] - 0s 1ms/step - loss: 0.0322 - accuracy: 0.9987\n",
      "Epoch 5/10\n",
      "25/25 [==============================] - 0s 786us/step - loss: 0.0138 - accuracy: 1.0000\n",
      "Epoch 6/10\n",
      "25/25 [==============================] - 0s 646us/step - loss: 0.0081 - accuracy: 1.0000\n",
      "Epoch 7/10\n",
      "25/25 [==============================] - 0s 683us/step - loss: 0.0054 - accuracy: 1.0000\n",
      "Epoch 8/10\n",
      "25/25 [==============================] - 0s 675us/step - loss: 0.0040 - accuracy: 1.0000\n",
      "Epoch 9/10\n",
      "25/25 [==============================] - 0s 1ms/step - loss: 0.0031 - accuracy: 1.0000\n",
      "Epoch 10/10\n",
      "25/25 [==============================] - 0s 918us/step - loss: 0.0025 - accuracy: 1.0000\n",
      "7/7 [==============================] - 0s 722us/step - loss: 0.1705 - accuracy: 0.9450\n",
      "Epoch 1/10\n",
      "25/25 [==============================] - 0s 715us/step - loss: 1.1794 - accuracy: 0.6112\n",
      "Epoch 2/10\n",
      "25/25 [==============================] - 0s 583us/step - loss: 0.3233 - accuracy: 0.9463\n",
      "Epoch 3/10\n",
      "25/25 [==============================] - 0s 594us/step - loss: 0.0868 - accuracy: 0.9887\n",
      "Epoch 4/10\n",
      "25/25 [==============================] - 0s 631us/step - loss: 0.0300 - accuracy: 0.9987\n",
      "Epoch 5/10\n",
      "25/25 [==============================] - 0s 645us/step - loss: 0.0147 - accuracy: 1.0000\n",
      "Epoch 6/10\n",
      "25/25 [==============================] - 0s 649us/step - loss: 0.0089 - accuracy: 1.0000\n",
      "Epoch 7/10\n",
      "25/25 [==============================] - 0s 670us/step - loss: 0.0060 - accuracy: 1.0000\n",
      "Epoch 8/10\n",
      "25/25 [==============================] - 0s 687us/step - loss: 0.0044 - accuracy: 1.0000\n",
      "Epoch 9/10\n",
      "25/25 [==============================] - 0s 703us/step - loss: 0.0033 - accuracy: 1.0000\n",
      "Epoch 10/10\n",
      "25/25 [==============================] - 0s 661us/step - loss: 0.0027 - accuracy: 1.0000\n",
      "7/7 [==============================] - 0s 592us/step - loss: 0.1625 - accuracy: 0.9550\n",
      "Epoch 1/10\n",
      "25/25 [==============================] - 0s 677us/step - loss: 1.2177 - accuracy: 0.6112\n",
      "Epoch 2/10\n",
      "25/25 [==============================] - 0s 556us/step - loss: 0.3419 - accuracy: 0.9538\n",
      "Epoch 3/10\n",
      "25/25 [==============================] - 0s 613us/step - loss: 0.0855 - accuracy: 0.9912\n",
      "Epoch 4/10\n",
      "25/25 [==============================] - 0s 611us/step - loss: 0.0297 - accuracy: 0.9987\n",
      "Epoch 5/10\n",
      "25/25 [==============================] - 0s 641us/step - loss: 0.0141 - accuracy: 1.0000\n",
      "Epoch 6/10\n",
      "25/25 [==============================] - 0s 632us/step - loss: 0.0079 - accuracy: 1.0000\n",
      "Epoch 7/10\n",
      "25/25 [==============================] - 0s 655us/step - loss: 0.0054 - accuracy: 1.0000\n",
      "Epoch 8/10\n",
      "25/25 [==============================] - 0s 672us/step - loss: 0.0039 - accuracy: 1.0000\n",
      "Epoch 9/10\n",
      "25/25 [==============================] - 0s 3ms/step - loss: 0.0030 - accuracy: 1.0000\n",
      "Epoch 10/10\n",
      "25/25 [==============================] - 0s 1ms/step - loss: 0.0024 - accuracy: 1.0000\n",
      "7/7 [==============================] - 0s 604us/step - loss: 0.2140 - accuracy: 0.9500\n"
     ]
    }
   ],
   "source": [
    "\n",
    "# Assuming X_ngrams is the input feature matrix and labels are in 'Category' column\n",
    "# X_train, X_val, y_train, y_val = train_test_split(X_ngrams,y_train_one_hot, test_size=0.2, random_state=42)\n",
    "\n",
    "def createModel(feature):\n",
    "    input_text = Input(shape=(feature.shape[1],))\n",
    "    hidden1 = Dense(128, activation='relu')(input_text)\n",
    "    hidden2 = Dense(128, activation='relu')(hidden1)\n",
    "    output = Dense(5, activation='softmax')(hidden2)\n",
    "    model = Model(inputs=input_text, outputs=output)\n",
    "    model.compile(loss='categorical_crossentropy', optimizer='adam', metrics=['accuracy'])\n",
    "    return model\n",
    "\n",
    "\n",
    "Train_acc_countvector=[]\n",
    "Val_acc_countvector=[]\n",
    "cv = KFold(n_splits=5, shuffle=True, random_state = 42)\n",
    "for train_index, val_index in cv.split(feature):\n",
    "    X_train, X_val = feature[train_index], feature[val_index]\n",
    "    y_train, y_val = y_train_one_hot[train_index], y_train_one_hot[val_index]\n",
    "    model = createModel(feature)\n",
    "    model_result = model.fit(X_train, y_train, epochs = 10)\n",
    "    train_acc = model_result.history['accuracy'][-1]\n",
    "    val_loss, val_accuracy = model.evaluate(X_val, y_val)\n",
    "    Train_acc_countvector.append(train_acc)\n",
    "    Val_acc_countvector.append(val_accuracy)\n",
    "\n"
   ]
  },
  {
   "cell_type": "code",
   "execution_count": 9,
   "id": "5403ed5c-6196-41c7-8cec-3f96b686b1d3",
   "metadata": {
    "tags": []
   },
   "outputs": [],
   "source": [
    "\n",
    "result.append({\n",
    "    'Feature': \"CountVector\",\n",
    "    'Avg_Train_Acc': np.mean(Train_acc_countvector),\n",
    "    'Avg_Val_Acc': np.mean(Val_acc_countvector),\n",
    "    'Std_Train_Acc': np.std(Train_acc_countvector),\n",
    "    'Std_Val_Acc': np.std(Val_acc_countvector)\n",
    "})"
   ]
  },
  {
   "cell_type": "markdown",
   "id": "4cc3389e-7442-4638-8f58-e0f427582f19",
   "metadata": {},
   "source": [
    "**TFI-DF Vectorizer**"
   ]
  },
  {
   "cell_type": "code",
   "execution_count": 10,
   "id": "21024dc8-25c2-485d-961b-70f82698ff02",
   "metadata": {
    "tags": []
   },
   "outputs": [],
   "source": [
    "# Initialize the TF-IDF vectorizer\n",
    "tfidf_vectorizer = TfidfVectorizer(vocabulary=dictionary)\n",
    "\n",
    "# Fit and transform the text data\n",
    "tfidf_features = tfidf_vectorizer.fit_transform(data['Text'])\n",
    "\n",
    "# Convert the sparse matrix to a dense array\n",
    "feature = tfidf_features.toarray()\n",
    "\n",
    "data['TFIDF'] = list(feature)\n",
    "test['TFIDF'] = list( tfidf_vectorizer.fit_transform(test['Text']).toarray())"
   ]
  },
  {
   "cell_type": "markdown",
   "id": "3e3285a1-c09f-4b40-9681-6c6d2abef2fe",
   "metadata": {},
   "source": [
    "**Training and Validating Neural Network**\n",
    "\n",
    "Create and train a neural network with 2 hidden layers and validate it using 5 fold validation. Store the accuraries in result."
   ]
  },
  {
   "cell_type": "code",
   "execution_count": 11,
   "id": "6b4c0495-ca34-4047-b1ca-ff6d3821c0a0",
   "metadata": {
    "tags": []
   },
   "outputs": [
    {
     "name": "stdout",
     "output_type": "stream",
     "text": [
      "Epoch 1/10\n",
      "25/25 [==============================] - 0s 605us/step - loss: 1.5485 - accuracy: 0.4500\n",
      "Epoch 2/10\n",
      "25/25 [==============================] - 0s 653us/step - loss: 1.0877 - accuracy: 0.8512\n",
      "Epoch 3/10\n",
      "25/25 [==============================] - 0s 626us/step - loss: 0.3816 - accuracy: 0.9575\n",
      "Epoch 4/10\n",
      "25/25 [==============================] - 0s 614us/step - loss: 0.1180 - accuracy: 0.9850\n",
      "Epoch 5/10\n",
      "25/25 [==============================] - 0s 627us/step - loss: 0.0520 - accuracy: 0.9962\n",
      "Epoch 6/10\n",
      "25/25 [==============================] - 0s 634us/step - loss: 0.0273 - accuracy: 0.9975\n",
      "Epoch 7/10\n",
      "25/25 [==============================] - 0s 643us/step - loss: 0.0170 - accuracy: 1.0000\n",
      "Epoch 8/10\n",
      "25/25 [==============================] - 0s 658us/step - loss: 0.0107 - accuracy: 1.0000\n",
      "Epoch 9/10\n",
      "25/25 [==============================] - 0s 651us/step - loss: 0.0080 - accuracy: 1.0000\n",
      "Epoch 10/10\n",
      "25/25 [==============================] - 0s 648us/step - loss: 0.0060 - accuracy: 1.0000\n",
      "7/7 [==============================] - 0s 551us/step - loss: 0.1372 - accuracy: 0.9350\n",
      "Epoch 1/10\n",
      "25/25 [==============================] - 0s 590us/step - loss: 1.5525 - accuracy: 0.5337\n",
      "Epoch 2/10\n",
      "25/25 [==============================] - 0s 675us/step - loss: 1.0994 - accuracy: 0.9175\n",
      "Epoch 3/10\n",
      "25/25 [==============================] - 0s 589us/step - loss: 0.3683 - accuracy: 0.9675\n",
      "Epoch 4/10\n",
      "25/25 [==============================] - 0s 600us/step - loss: 0.1151 - accuracy: 0.9825\n",
      "Epoch 5/10\n",
      "25/25 [==============================] - 0s 630us/step - loss: 0.0513 - accuracy: 0.9962\n",
      "Epoch 6/10\n",
      "25/25 [==============================] - 0s 645us/step - loss: 0.0278 - accuracy: 0.9975\n",
      "Epoch 7/10\n",
      "25/25 [==============================] - 0s 643us/step - loss: 0.0162 - accuracy: 1.0000\n",
      "Epoch 8/10\n",
      "25/25 [==============================] - 0s 659us/step - loss: 0.0112 - accuracy: 1.0000\n",
      "Epoch 9/10\n",
      "25/25 [==============================] - 0s 639us/step - loss: 0.0080 - accuracy: 1.0000\n",
      "Epoch 10/10\n",
      "25/25 [==============================] - 0s 647us/step - loss: 0.0061 - accuracy: 1.0000\n",
      "7/7 [==============================] - 0s 596us/step - loss: 0.1872 - accuracy: 0.9350\n",
      "Epoch 1/10\n",
      "25/25 [==============================] - 0s 578us/step - loss: 1.5532 - accuracy: 0.5038\n",
      "Epoch 2/10\n",
      "25/25 [==============================] - 0s 658us/step - loss: 1.1116 - accuracy: 0.8612\n",
      "Epoch 3/10\n",
      "25/25 [==============================] - 0s 626us/step - loss: 0.4052 - accuracy: 0.9538\n",
      "Epoch 4/10\n",
      "25/25 [==============================] - 0s 623us/step - loss: 0.1228 - accuracy: 0.9825\n",
      "Epoch 5/10\n",
      "25/25 [==============================] - 0s 647us/step - loss: 0.0528 - accuracy: 0.9937\n",
      "Epoch 6/10\n",
      "25/25 [==============================] - 0s 609us/step - loss: 0.0279 - accuracy: 0.9975\n",
      "Epoch 7/10\n",
      "25/25 [==============================] - 0s 661us/step - loss: 0.0163 - accuracy: 1.0000\n",
      "Epoch 8/10\n",
      "25/25 [==============================] - 0s 647us/step - loss: 0.0113 - accuracy: 1.0000\n",
      "Epoch 9/10\n",
      "25/25 [==============================] - 0s 607us/step - loss: 0.0081 - accuracy: 1.0000\n",
      "Epoch 10/10\n",
      "25/25 [==============================] - 0s 654us/step - loss: 0.0061 - accuracy: 1.0000\n",
      "7/7 [==============================] - 0s 626us/step - loss: 0.1620 - accuracy: 0.9500\n",
      "Epoch 1/10\n",
      "25/25 [==============================] - 0s 592us/step - loss: 1.5427 - accuracy: 0.4263\n",
      "Epoch 2/10\n",
      "25/25 [==============================] - 0s 624us/step - loss: 1.0867 - accuracy: 0.8863\n",
      "Epoch 3/10\n",
      "25/25 [==============================] - 0s 577us/step - loss: 0.3749 - accuracy: 0.9638\n",
      "Epoch 4/10\n",
      "25/25 [==============================] - 0s 605us/step - loss: 0.1100 - accuracy: 0.9850\n",
      "Epoch 5/10\n",
      "25/25 [==============================] - 0s 666us/step - loss: 0.0472 - accuracy: 0.9962\n",
      "Epoch 6/10\n",
      "25/25 [==============================] - 0s 643us/step - loss: 0.0245 - accuracy: 1.0000\n",
      "Epoch 7/10\n",
      "25/25 [==============================] - 0s 621us/step - loss: 0.0144 - accuracy: 1.0000\n",
      "Epoch 8/10\n",
      "25/25 [==============================] - 0s 609us/step - loss: 0.0098 - accuracy: 1.0000\n",
      "Epoch 9/10\n",
      "25/25 [==============================] - 0s 597us/step - loss: 0.0072 - accuracy: 1.0000\n",
      "Epoch 10/10\n",
      "25/25 [==============================] - 0s 609us/step - loss: 0.0056 - accuracy: 1.0000\n",
      "7/7 [==============================] - 0s 608us/step - loss: 0.1277 - accuracy: 0.9650\n",
      "Epoch 1/10\n",
      "25/25 [==============================] - 0s 577us/step - loss: 1.5243 - accuracy: 0.4475\n",
      "Epoch 2/10\n",
      "25/25 [==============================] - 0s 653us/step - loss: 1.0242 - accuracy: 0.7775\n",
      "Epoch 3/10\n",
      "25/25 [==============================] - 0s 588us/step - loss: 0.3870 - accuracy: 0.9550\n",
      "Epoch 4/10\n",
      "25/25 [==============================] - 0s 590us/step - loss: 0.1269 - accuracy: 0.9862\n",
      "Epoch 5/10\n",
      "25/25 [==============================] - 0s 603us/step - loss: 0.0536 - accuracy: 0.9987\n",
      "Epoch 6/10\n",
      "25/25 [==============================] - 0s 653us/step - loss: 0.0287 - accuracy: 0.9987\n",
      "Epoch 7/10\n",
      "25/25 [==============================] - 0s 651us/step - loss: 0.0165 - accuracy: 1.0000\n",
      "Epoch 8/10\n",
      "25/25 [==============================] - 0s 648us/step - loss: 0.0113 - accuracy: 1.0000\n",
      "Epoch 9/10\n",
      "25/25 [==============================] - 0s 616us/step - loss: 0.0083 - accuracy: 1.0000\n",
      "Epoch 10/10\n",
      "25/25 [==============================] - 0s 633us/step - loss: 0.0062 - accuracy: 1.0000\n",
      "7/7 [==============================] - 0s 550us/step - loss: 0.1595 - accuracy: 0.9700\n"
     ]
    }
   ],
   "source": [
    "def createModel(feature):\n",
    "    input_text = Input(shape=(feature.shape[1],))\n",
    "    hidden1 = Dense(128, activation='relu')(input_text)\n",
    "    hidden2 = Dense(128, activation='relu')(hidden1)\n",
    "    output = Dense(5, activation='softmax')(hidden2)\n",
    "    model = Model(inputs=input_text, outputs=output)\n",
    "    model.compile(loss='categorical_crossentropy', optimizer='adam', metrics=['accuracy'])\n",
    "    return model\n",
    "\n",
    "Train_acc_tfidf=[]\n",
    "Val_acc_tfidf=[]\n",
    "cv = KFold(n_splits=5, shuffle=True, random_state = 42)\n",
    "for train_index, val_index in cv.split(feature):\n",
    "    X_train, X_val = feature[train_index], feature[val_index]\n",
    "    y_train, y_val = y_train_one_hot[train_index], y_train_one_hot[val_index]\n",
    "    model = createModel(feature)\n",
    "    model_result = model.fit(X_train, y_train, epochs = 10)\n",
    "    train_acc = model_result.history['accuracy'][-1]\n",
    "    val_loss, val_accuracy = model.evaluate(X_val, y_val)\n",
    "    Train_acc_tfidf.append(train_acc)\n",
    "    Val_acc_tfidf.append(val_accuracy)\n",
    "\n"
   ]
  },
  {
   "cell_type": "code",
   "execution_count": 12,
   "id": "4087cae8-cb64-49c0-a914-6388437797f2",
   "metadata": {
    "tags": []
   },
   "outputs": [],
   "source": [
    "\n",
    "result.append({\n",
    "    'Feature': \"TFIDF\",\n",
    "    'Avg_Train_Acc': np.mean(Train_acc_tfidf),\n",
    "    'Avg_Val_Acc': np.mean(Val_acc_tfidf),\n",
    "    'Std_Train_Acc': np.std(Train_acc_tfidf),\n",
    "    'Std_Val_Acc': np.std(Val_acc_tfidf)\n",
    "})"
   ]
  },
  {
   "cell_type": "markdown",
   "id": "55f2e28a-46b5-446a-b62a-86b5891d36b0",
   "metadata": {},
   "source": [
    "**GloVe**"
   ]
  },
  {
   "cell_type": "markdown",
   "id": "5ada3d97-6ed6-4479-a453-efc81a718bb3",
   "metadata": {},
   "source": [
    "**Training and Validating Neural Network**\n",
    "\n",
    "Create and train a neural network with 2 hidden layers and validate it using 5 fold validation. Store the accuraries in result."
   ]
  },
  {
   "cell_type": "code",
   "execution_count": 13,
   "id": "4d86a4a7-1e32-48de-a7ef-7ee373bc8e84",
   "metadata": {
    "tags": []
   },
   "outputs": [
    {
     "name": "stdout",
     "output_type": "stream",
     "text": [
      "Epoch 1/10\n",
      "25/25 [==============================] - 0s 564us/step - loss: 1.1153 - accuracy: 0.5900\n",
      "Epoch 2/10\n",
      "25/25 [==============================] - 0s 601us/step - loss: 0.5119 - accuracy: 0.8225\n",
      "Epoch 3/10\n",
      "25/25 [==============================] - 0s 434us/step - loss: 0.3528 - accuracy: 0.8888\n",
      "Epoch 4/10\n",
      "25/25 [==============================] - 0s 447us/step - loss: 0.2732 - accuracy: 0.9038\n",
      "Epoch 5/10\n",
      "25/25 [==============================] - 0s 449us/step - loss: 0.2756 - accuracy: 0.9038\n",
      "Epoch 6/10\n",
      "25/25 [==============================] - 0s 475us/step - loss: 0.2110 - accuracy: 0.9287\n",
      "Epoch 7/10\n",
      "25/25 [==============================] - 0s 479us/step - loss: 0.1824 - accuracy: 0.9362\n",
      "Epoch 8/10\n",
      "25/25 [==============================] - 0s 481us/step - loss: 0.1983 - accuracy: 0.9350\n",
      "Epoch 9/10\n",
      "25/25 [==============================] - 0s 466us/step - loss: 0.1688 - accuracy: 0.9337\n",
      "Epoch 10/10\n",
      "25/25 [==============================] - 0s 464us/step - loss: 0.1292 - accuracy: 0.9588\n",
      "7/7 [==============================] - 0s 522us/step - loss: 0.1766 - accuracy: 0.9500\n",
      "Epoch 1/10\n",
      "25/25 [==============================] - 0s 511us/step - loss: 1.1018 - accuracy: 0.5938\n",
      "Epoch 2/10\n",
      "25/25 [==============================] - 0s 469us/step - loss: 0.4788 - accuracy: 0.8462\n",
      "Epoch 3/10\n",
      "25/25 [==============================] - 0s 438us/step - loss: 0.3603 - accuracy: 0.8700\n",
      "Epoch 4/10\n",
      "25/25 [==============================] - 0s 448us/step - loss: 0.2639 - accuracy: 0.9150\n",
      "Epoch 5/10\n",
      "25/25 [==============================] - 0s 478us/step - loss: 0.2314 - accuracy: 0.9250\n",
      "Epoch 6/10\n",
      "25/25 [==============================] - 0s 468us/step - loss: 0.2012 - accuracy: 0.9362\n",
      "Epoch 7/10\n",
      "25/25 [==============================] - 0s 493us/step - loss: 0.1879 - accuracy: 0.9287\n",
      "Epoch 8/10\n",
      "25/25 [==============================] - 0s 498us/step - loss: 0.1351 - accuracy: 0.9563\n",
      "Epoch 9/10\n",
      "25/25 [==============================] - 0s 483us/step - loss: 0.1362 - accuracy: 0.9563\n",
      "Epoch 10/10\n",
      "25/25 [==============================] - 0s 511us/step - loss: 0.1369 - accuracy: 0.9488\n",
      "7/7 [==============================] - 0s 481us/step - loss: 0.2789 - accuracy: 0.9000\n",
      "Epoch 1/10\n",
      "25/25 [==============================] - 0s 508us/step - loss: 1.0839 - accuracy: 0.6300\n",
      "Epoch 2/10\n",
      "25/25 [==============================] - 0s 471us/step - loss: 0.4893 - accuracy: 0.8537\n",
      "Epoch 3/10\n",
      "25/25 [==============================] - 0s 429us/step - loss: 0.3419 - accuracy: 0.8988\n",
      "Epoch 4/10\n",
      "25/25 [==============================] - 0s 435us/step - loss: 0.3137 - accuracy: 0.8963\n",
      "Epoch 5/10\n",
      "25/25 [==============================] - 0s 469us/step - loss: 0.2953 - accuracy: 0.8975\n",
      "Epoch 6/10\n",
      "25/25 [==============================] - 0s 474us/step - loss: 0.2488 - accuracy: 0.9162\n",
      "Epoch 7/10\n",
      "25/25 [==============================] - 0s 471us/step - loss: 0.2007 - accuracy: 0.9362\n",
      "Epoch 8/10\n",
      "25/25 [==============================] - 0s 467us/step - loss: 0.1778 - accuracy: 0.9388\n",
      "Epoch 9/10\n",
      "25/25 [==============================] - 0s 462us/step - loss: 0.1640 - accuracy: 0.9463\n",
      "Epoch 10/10\n",
      "25/25 [==============================] - 0s 467us/step - loss: 0.1375 - accuracy: 0.9613\n",
      "7/7 [==============================] - 0s 476us/step - loss: 0.1625 - accuracy: 0.9450\n",
      "Epoch 1/10\n",
      "25/25 [==============================] - 0s 611us/step - loss: 1.0666 - accuracy: 0.6050\n",
      "Epoch 2/10\n",
      "25/25 [==============================] - 0s 482us/step - loss: 0.4591 - accuracy: 0.8687\n",
      "Epoch 3/10\n",
      "25/25 [==============================] - 0s 440us/step - loss: 0.3438 - accuracy: 0.8925\n",
      "Epoch 4/10\n",
      "25/25 [==============================] - 0s 472us/step - loss: 0.2543 - accuracy: 0.9250\n",
      "Epoch 5/10\n",
      "25/25 [==============================] - 0s 495us/step - loss: 0.2210 - accuracy: 0.9325\n",
      "Epoch 6/10\n",
      "25/25 [==============================] - 0s 483us/step - loss: 0.2152 - accuracy: 0.9212\n",
      "Epoch 7/10\n",
      "25/25 [==============================] - 0s 474us/step - loss: 0.1682 - accuracy: 0.9400\n",
      "Epoch 8/10\n",
      "25/25 [==============================] - 0s 467us/step - loss: 0.1452 - accuracy: 0.9550\n",
      "Epoch 9/10\n",
      "25/25 [==============================] - 0s 476us/step - loss: 0.1374 - accuracy: 0.9513\n",
      "Epoch 10/10\n",
      "25/25 [==============================] - 0s 489us/step - loss: 0.1153 - accuracy: 0.9650\n",
      "7/7 [==============================] - 0s 485us/step - loss: 0.1812 - accuracy: 0.9450\n",
      "Epoch 1/10\n",
      "25/25 [==============================] - 0s 574us/step - loss: 1.2528 - accuracy: 0.5425\n",
      "Epoch 2/10\n",
      "25/25 [==============================] - 0s 475us/step - loss: 0.5302 - accuracy: 0.8575\n",
      "Epoch 3/10\n",
      "25/25 [==============================] - 0s 445us/step - loss: 0.3646 - accuracy: 0.8850\n",
      "Epoch 4/10\n",
      "25/25 [==============================] - 0s 469us/step - loss: 0.2906 - accuracy: 0.8988\n",
      "Epoch 5/10\n",
      "25/25 [==============================] - 0s 489us/step - loss: 0.2396 - accuracy: 0.9250\n",
      "Epoch 6/10\n",
      "25/25 [==============================] - 0s 488us/step - loss: 0.2165 - accuracy: 0.9350\n",
      "Epoch 7/10\n",
      "25/25 [==============================] - 0s 501us/step - loss: 0.1970 - accuracy: 0.9300\n",
      "Epoch 8/10\n",
      "25/25 [==============================] - 0s 483us/step - loss: 0.1784 - accuracy: 0.9388\n",
      "Epoch 9/10\n",
      "25/25 [==============================] - 0s 490us/step - loss: 0.1934 - accuracy: 0.9250\n",
      "Epoch 10/10\n",
      "25/25 [==============================] - 0s 495us/step - loss: 0.1870 - accuracy: 0.9287\n",
      "7/7 [==============================] - 0s 478us/step - loss: 0.1777 - accuracy: 0.9450\n"
     ]
    }
   ],
   "source": [
    "\n",
    "# Load spaCy model with GloVe embeddings\n",
    "nlp = spacy.load(\"en_core_web_md\")\n",
    "\n",
    "\n",
    "# Function to calculate document vector using spaCy and GloVe\n",
    "def calculate_doc_vector(text):\n",
    "    # Process the text with spaCy\n",
    "    doc = nlp(text)\n",
    "    \n",
    "    # Return the document vector (average of word vectors)\n",
    "    return doc.vector\n",
    "\n",
    "# Apply the function to create a new column 'doc_vector'\n",
    "data['GloVe'] = data['Text'].apply(calculate_doc_vector)\n",
    "test['GloVe'] = test['Text'].apply(calculate_doc_vector)\n",
    "feature=np.array(data['GloVe'].tolist())\n",
    "y=np.array(y_train_one_hot.tolist())\n",
    "\n",
    "def createModel(feature):\n",
    "    input_text = Input(shape=(feature.shape[1],))\n",
    "    hidden1 = Dense(128, activation='relu')(input_text)\n",
    "    hidden2 = Dense(128, activation='relu')(hidden1)\n",
    "    output = Dense(5, activation='softmax')(hidden2)\n",
    "    model = Model(inputs=input_text, outputs=output)\n",
    "    model.compile(loss='categorical_crossentropy', optimizer='adam', metrics=['accuracy'])\n",
    "    return model\n",
    "\n",
    "Train_acc_glove=[]\n",
    "Val_acc_glove=[]\n",
    "cv = KFold(n_splits=5, shuffle=True, random_state = 42)\n",
    "for train_index, val_index in cv.split(feature):\n",
    "    X_train, X_val = feature[train_index], feature[val_index]\n",
    "    y_train, y_val = y[train_index], y[val_index]\n",
    "    model = createModel(feature)\n",
    "    model_result = model.fit(X_train, y_train, epochs = 10)\n",
    "    train_acc = model_result.history['accuracy'][-1]\n",
    "    val_loss, val_accuracy = model.evaluate(X_val, y_val)\n",
    "    Train_acc_glove.append(train_acc)\n",
    "    Val_acc_glove.append(val_accuracy)\n"
   ]
  },
  {
   "cell_type": "code",
   "execution_count": 14,
   "id": "febd5d02-ca0e-4bfe-8f29-8380e69f2f07",
   "metadata": {
    "tags": []
   },
   "outputs": [],
   "source": [
    "\n",
    "result.append({\n",
    "    'Feature': \"GloVe\",\n",
    "    'Avg_Train_Acc': np.mean(Train_acc_glove),\n",
    "    'Avg_Val_Acc': np.mean(Val_acc_glove),\n",
    "    'Std_Train_Acc': np.std(Train_acc_glove),\n",
    "    'Std_Val_Acc': np.std(Val_acc_glove)\n",
    "})"
   ]
  },
  {
   "cell_type": "markdown",
   "id": "341a260e-fadd-4273-ac0e-86dd9d2fe4fd",
   "metadata": {},
   "source": [
    "**BERT**"
   ]
  },
  {
   "cell_type": "code",
   "execution_count": 15,
   "id": "ebe373a4-5e29-4969-8e70-c48ecfad7dbf",
   "metadata": {
    "tags": []
   },
   "outputs": [
    {
     "name": "stderr",
     "output_type": "stream",
     "text": [
      "Some weights of the model checkpoint at bert-base-uncased were not used when initializing BertModel: ['cls.predictions.transform.LayerNorm.bias', 'cls.predictions.transform.dense.bias', 'cls.seq_relationship.bias', 'cls.predictions.decoder.weight', 'cls.predictions.transform.dense.weight', 'cls.predictions.bias', 'cls.seq_relationship.weight', 'cls.predictions.transform.LayerNorm.weight']\n",
      "- This IS expected if you are initializing BertModel from the checkpoint of a model trained on another task or with another architecture (e.g. initializing a BertForSequenceClassification model from a BertForPreTraining model).\n",
      "- This IS NOT expected if you are initializing BertModel from the checkpoint of a model that you expect to be exactly identical (initializing a BertForSequenceClassification model from a BertForSequenceClassification model).\n"
     ]
    },
    {
     "name": "stdout",
     "output_type": "stream",
     "text": [
      "     ArticleId                                               Text  \\\n",
      "0         1429  sfa awaits report over mikoliunas the scottish...   \n",
      "1         1896  parmalat to return to stockmarket parmalat  th...   \n",
      "2         1633  edu blasts arsenal arsenal s brazilian midfiel...   \n",
      "3         2178  henman decides to quit davis cup tim henman ha...   \n",
      "4          194  french suitor holds lse meeting european stock...   \n",
      "..         ...                                                ...   \n",
      "995       1250  blair  damaged  by blunkett row a majority of ...   \n",
      "996       1639  a november to remember last saturday  one news...   \n",
      "997        916  highbury tunnel players in clear the football ...   \n",
      "998       2217  top stars join us tsunami tv show brad pitt  r...   \n",
      "999        902  eastwood s baby scoops top oscars clint eastwo...   \n",
      "\n",
      "          Category                                        CountVector  \\\n",
      "0            sport  [1, 0, 2, 0, 0, 0, 0, 0, 0, 0, 0, 0, 1, 0, 0, ...   \n",
      "1         business  [0, 0, 0, 0, 1, 0, 0, 0, 0, 0, 1, 0, 0, 0, 0, ...   \n",
      "2            sport  [0, 0, 0, 1, 0, 0, 0, 0, 0, 0, 0, 0, 0, 0, 0, ...   \n",
      "3            sport  [0, 0, 0, 0, 0, 0, 0, 0, 0, 0, 0, 0, 0, 0, 0, ...   \n",
      "4         business  [0, 0, 0, 0, 0, 0, 0, 0, 0, 0, 0, 0, 0, 0, 0, ...   \n",
      "..             ...                                                ...   \n",
      "995       politics  [0, 0, 0, 0, 0, 0, 0, 1, 0, 2, 1, 0, 0, 0, 0, ...   \n",
      "996          sport  [0, 0, 2, 0, 0, 1, 0, 0, 0, 0, 0, 0, 0, 0, 0, ...   \n",
      "997          sport  [0, 0, 0, 0, 0, 0, 0, 0, 0, 0, 0, 0, 0, 0, 0, ...   \n",
      "998  entertainment  [0, 0, 0, 0, 1, 0, 0, 0, 0, 0, 0, 0, 0, 0, 0, ...   \n",
      "999  entertainment  [0, 0, 0, 0, 1, 0, 0, 0, 1, 0, 0, 0, 0, 0, 0, ...   \n",
      "\n",
      "                                                 TFIDF  \\\n",
      "0    [0.07068628369211698, 0.0, 0.1559450364871253,...   \n",
      "1    [0.0, 0.0, 0.0, 0.0, 0.1240405633521785, 0.0, ...   \n",
      "2    [0.0, 0.0, 0.0, 0.09063007530259953, 0.0, 0.0,...   \n",
      "3    [0.0, 0.0, 0.0, 0.0, 0.0, 0.0, 0.0, 0.0, 0.0, ...   \n",
      "4    [0.0, 0.0, 0.0, 0.0, 0.0, 0.0, 0.0, 0.0, 0.0, ...   \n",
      "..                                                 ...   \n",
      "995  [0.0, 0.0, 0.0, 0.0, 0.0, 0.0, 0.0, 0.08861114...   \n",
      "996  [0.0, 0.0, 0.08324011423673809, 0.0, 0.0, 0.04...   \n",
      "997  [0.0, 0.0, 0.0, 0.0, 0.0, 0.0, 0.0, 0.0, 0.0, ...   \n",
      "998  [0.0, 0.0, 0.0, 0.0, 0.06262571138136022, 0.0,...   \n",
      "999  [0.0, 0.0, 0.0, 0.0, 0.048923336744855855, 0.0...   \n",
      "\n",
      "                                                 GloVe  \\\n",
      "0    [-1.504953, 1.0489184, -1.6432881, 0.22146176,...   \n",
      "1    [-2.4711528, -0.1927695, -2.6111906, 0.7884381...   \n",
      "2    [-0.9112519, 1.5079144, -2.477887, -0.5450648,...   \n",
      "3    [-1.5437831, 0.8686301, -1.7728345, -0.1992229...   \n",
      "4    [-1.6062019, 1.0062516, -2.461108, 0.18662423,...   \n",
      "..                                                 ...   \n",
      "995  [-2.9384747, -0.08198468, -2.1427119, 1.098952...   \n",
      "996  [-2.1787052, 0.85770595, -1.7156782, 0.6814034...   \n",
      "997  [-1.397803, 1.241503, -1.9041436, -0.000832404...   \n",
      "998  [-1.8579051, 0.87572575, -2.718928, 0.06106938...   \n",
      "999  [-1.6102848, 0.34991446, -1.8275838, -0.867088...   \n",
      "\n",
      "                                                  BERT  \n",
      "0    [[-0.6921596, -0.58670557, 0.24926306, -0.4062...  \n",
      "1    [[-0.638439, -0.4999063, 0.32632527, 0.0964038...  \n",
      "2    [[-0.5185157, -0.37947765, 0.07328506, -0.6101...  \n",
      "3    [[-0.76180494, -0.55865103, 0.28042454, -0.487...  \n",
      "4    [[-1.040333, -0.19826055, -0.01815823, -0.6395...  \n",
      "..                                                 ...  \n",
      "995  [[-0.688539, -0.19720563, 0.19999169, -0.76540...  \n",
      "996  [[-0.14743768, -0.23990116, -0.12520984, -0.51...  \n",
      "997  [[-0.70915914, -0.19753301, 0.12053698, -0.546...  \n",
      "998  [[-0.25671557, -0.53557885, 0.46061137, 0.0523...  \n",
      "999  [[-0.66848254, -0.41711923, -0.09770477, 0.321...  \n",
      "\n",
      "[1000 rows x 7 columns]\n"
     ]
    }
   ],
   "source": [
    "# Load pre-trained BERT model and tokenizer\n",
    "model_name = 'bert-base-uncased'\n",
    "tokenizer = BertTokenizer.from_pretrained(model_name)\n",
    "model = BertModel.from_pretrained(model_name)\n",
    "\n",
    "# Function to extract BERT embeddings for a given text\n",
    "def get_bert_embeddings(text):\n",
    "    # Tokenize and pad sequences to a maximum length\n",
    "    tokens = tokenizer(text, return_tensors='pt', padding=True, truncation=True)\n",
    "    with torch.no_grad():\n",
    "        outputs = model(**tokens)\n",
    "    return outputs.last_hidden_state[:, 0, :].numpy()\n",
    "\n",
    "# Apply the function to the 'text' column and create a new column 'bert_embeddings'\n",
    "data['BERT'] = data['Text'].apply(get_bert_embeddings)\n",
    "test['BERT'] = test['Text'].apply(get_bert_embeddings)\n",
    "print(data)\n"
   ]
  },
  {
   "cell_type": "markdown",
   "id": "3c16a014-8218-4fe4-964b-010d2226feff",
   "metadata": {
    "tags": []
   },
   "source": [
    "**Training and Validating Neural Network**\n",
    "\n",
    "Create and train a neural network with 2 hidden layers and validate it using 5 fold validation. Store the accuraries in result."
   ]
  },
  {
   "cell_type": "code",
   "execution_count": 16,
   "id": "49aa5b96-b778-41d0-9753-a97b3ad2f1d5",
   "metadata": {
    "tags": []
   },
   "outputs": [
    {
     "name": "stdout",
     "output_type": "stream",
     "text": [
      "Epoch 1/10\n",
      "25/25 [==============================] - 0s 649us/step - loss: 0.7335 - accuracy: 0.7812\n",
      "Epoch 2/10\n",
      "25/25 [==============================] - 0s 457us/step - loss: 0.1747 - accuracy: 0.9500\n",
      "Epoch 3/10\n",
      "25/25 [==============================] - 0s 472us/step - loss: 0.1065 - accuracy: 0.9663\n",
      "Epoch 4/10\n",
      "25/25 [==============================] - 0s 473us/step - loss: 0.0750 - accuracy: 0.9775\n",
      "Epoch 5/10\n",
      "25/25 [==============================] - 0s 483us/step - loss: 0.0440 - accuracy: 0.9887\n",
      "Epoch 6/10\n",
      "25/25 [==============================] - 0s 494us/step - loss: 0.0218 - accuracy: 0.9975\n",
      "Epoch 7/10\n",
      "25/25 [==============================] - 0s 531us/step - loss: 0.0153 - accuracy: 1.0000\n",
      "Epoch 8/10\n",
      "25/25 [==============================] - 0s 479us/step - loss: 0.0116 - accuracy: 1.0000\n",
      "Epoch 9/10\n",
      "25/25 [==============================] - 0s 543us/step - loss: 0.0081 - accuracy: 1.0000\n",
      "Epoch 10/10\n",
      "25/25 [==============================] - 0s 521us/step - loss: 0.0061 - accuracy: 1.0000\n",
      "7/7 [==============================] - 0s 624us/step - loss: 0.0823 - accuracy: 0.9700\n",
      "Epoch 1/10\n",
      "25/25 [==============================] - 0s 631us/step - loss: 0.8259 - accuracy: 0.7312\n",
      "Epoch 2/10\n",
      "25/25 [==============================] - 0s 468us/step - loss: 0.1791 - accuracy: 0.9550\n",
      "Epoch 3/10\n",
      "25/25 [==============================] - 0s 497us/step - loss: 0.0928 - accuracy: 0.9750\n",
      "Epoch 4/10\n",
      "25/25 [==============================] - 0s 481us/step - loss: 0.0648 - accuracy: 0.9787\n",
      "Epoch 5/10\n",
      "25/25 [==============================] - 0s 563us/step - loss: 0.0411 - accuracy: 0.9925\n",
      "Epoch 6/10\n",
      "25/25 [==============================] - 0s 534us/step - loss: 0.0367 - accuracy: 0.9887\n",
      "Epoch 7/10\n",
      "25/25 [==============================] - 0s 542us/step - loss: 0.0274 - accuracy: 0.9937\n",
      "Epoch 8/10\n",
      "25/25 [==============================] - 0s 511us/step - loss: 0.0090 - accuracy: 1.0000\n",
      "Epoch 9/10\n",
      "25/25 [==============================] - 0s 524us/step - loss: 0.0059 - accuracy: 1.0000\n",
      "Epoch 10/10\n",
      "25/25 [==============================] - 0s 518us/step - loss: 0.0042 - accuracy: 1.0000\n",
      "7/7 [==============================] - 0s 499us/step - loss: 0.1168 - accuracy: 0.9600\n",
      "Epoch 1/10\n",
      "25/25 [==============================] - 0s 652us/step - loss: 0.7245 - accuracy: 0.7550\n",
      "Epoch 2/10\n",
      "25/25 [==============================] - 0s 483us/step - loss: 0.1736 - accuracy: 0.9400\n",
      "Epoch 3/10\n",
      "25/25 [==============================] - 0s 484us/step - loss: 0.0943 - accuracy: 0.9712\n",
      "Epoch 4/10\n",
      "25/25 [==============================] - 0s 515us/step - loss: 0.0767 - accuracy: 0.9725\n",
      "Epoch 5/10\n",
      "25/25 [==============================] - 0s 516us/step - loss: 0.0448 - accuracy: 0.9862\n",
      "Epoch 6/10\n",
      "25/25 [==============================] - 0s 507us/step - loss: 0.0199 - accuracy: 0.9975\n",
      "Epoch 7/10\n",
      "25/25 [==============================] - 0s 495us/step - loss: 0.0142 - accuracy: 0.9987\n",
      "Epoch 8/10\n",
      "25/25 [==============================] - 0s 550us/step - loss: 0.0121 - accuracy: 1.0000\n",
      "Epoch 9/10\n",
      "25/25 [==============================] - 0s 572us/step - loss: 0.0083 - accuracy: 1.0000\n",
      "Epoch 10/10\n",
      "25/25 [==============================] - 0s 492us/step - loss: 0.0062 - accuracy: 1.0000\n",
      "7/7 [==============================] - 1s 682us/step - loss: 0.1214 - accuracy: 0.9750\n",
      "Epoch 1/10\n",
      "25/25 [==============================] - 0s 615us/step - loss: 0.7713 - accuracy: 0.7563\n",
      "Epoch 2/10\n",
      "25/25 [==============================] - 0s 510us/step - loss: 0.1698 - accuracy: 0.9388\n",
      "Epoch 3/10\n",
      "25/25 [==============================] - 0s 519us/step - loss: 0.0834 - accuracy: 0.9737\n",
      "Epoch 4/10\n",
      "25/25 [==============================] - 0s 491us/step - loss: 0.0608 - accuracy: 0.9837\n",
      "Epoch 5/10\n",
      "25/25 [==============================] - 0s 491us/step - loss: 0.0290 - accuracy: 0.9950\n",
      "Epoch 6/10\n",
      "25/25 [==============================] - 0s 555us/step - loss: 0.0184 - accuracy: 0.9975\n",
      "Epoch 7/10\n",
      "25/25 [==============================] - 0s 528us/step - loss: 0.0134 - accuracy: 1.0000\n",
      "Epoch 8/10\n",
      "25/25 [==============================] - 0s 530us/step - loss: 0.0090 - accuracy: 1.0000\n",
      "Epoch 9/10\n",
      "25/25 [==============================] - 0s 471us/step - loss: 0.0053 - accuracy: 1.0000\n",
      "Epoch 10/10\n",
      "25/25 [==============================] - 0s 521us/step - loss: 0.0044 - accuracy: 1.0000\n",
      "7/7 [==============================] - 0s 498us/step - loss: 0.1163 - accuracy: 0.9650\n",
      "Epoch 1/10\n",
      "25/25 [==============================] - 0s 661us/step - loss: 0.7293 - accuracy: 0.7725\n",
      "Epoch 2/10\n",
      "25/25 [==============================] - 0s 512us/step - loss: 0.1693 - accuracy: 0.9488\n",
      "Epoch 3/10\n",
      "25/25 [==============================] - 0s 471us/step - loss: 0.0931 - accuracy: 0.9700\n",
      "Epoch 4/10\n",
      "25/25 [==============================] - 0s 497us/step - loss: 0.0483 - accuracy: 0.9837\n",
      "Epoch 5/10\n",
      "25/25 [==============================] - 0s 533us/step - loss: 0.0380 - accuracy: 0.9925\n",
      "Epoch 6/10\n",
      "25/25 [==============================] - 0s 522us/step - loss: 0.0258 - accuracy: 0.9962\n",
      "Epoch 7/10\n",
      "25/25 [==============================] - 0s 530us/step - loss: 0.0143 - accuracy: 0.9975\n",
      "Epoch 8/10\n",
      "25/25 [==============================] - 0s 522us/step - loss: 0.0083 - accuracy: 1.0000\n",
      "Epoch 9/10\n",
      "25/25 [==============================] - 0s 517us/step - loss: 0.0064 - accuracy: 1.0000\n",
      "Epoch 10/10\n",
      "25/25 [==============================] - 0s 549us/step - loss: 0.0069 - accuracy: 1.0000\n",
      "7/7 [==============================] - 0s 495us/step - loss: 0.0955 - accuracy: 0.9700\n"
     ]
    }
   ],
   "source": [
    "\n",
    "\n",
    "kfold = StratifiedKFold(n_splits=5, shuffle=True, random_state=42)\n",
    "num_classes=5\n",
    "def createModel(feature):\n",
    "    input_text = Input(shape=(feature.shape[1],))\n",
    "    hidden1 = Dense(128, activation='relu')(input_text)\n",
    "    hidden2 = Dense(128, activation='relu')(hidden1)\n",
    "    output = Dense(num_classes, activation='softmax')(hidden2)\n",
    "    model = Model(inputs=input_text, outputs=output)\n",
    "    model.compile(loss='categorical_crossentropy', optimizer='adam', metrics=['accuracy'])\n",
    "    return model\n",
    "\n",
    "\n",
    "feature=np.concatenate(data['BERT'].values)\n",
    "cv = KFold(n_splits=5, shuffle=True, random_state = 42)\n",
    "Train_acc_bert=[]\n",
    "Val_acc_bert=[]\n",
    "for train_index, val_index in cv.split(feature):\n",
    "    X_train, X_val = feature[train_index], feature[val_index]\n",
    "    y_train, y_val = y_train_one_hot[train_index], y_train_one_hot[val_index]\n",
    "    model = createModel(feature)\n",
    "    model_result = model.fit(X_train, y_train, epochs = 10)\n",
    "    train_acc = model_result.history['accuracy'][-1]\n",
    "    val_loss, val_accuracy = model.evaluate(X_val, y_val)\n",
    "    Train_acc_bert.append(train_acc)\n",
    "    Val_acc_bert.append(val_accuracy)\n",
    "\n"
   ]
  },
  {
   "cell_type": "code",
   "execution_count": 17,
   "id": "288d8018-e9ee-4d5a-b17a-f2563083c5e8",
   "metadata": {
    "tags": []
   },
   "outputs": [],
   "source": [
    "\n",
    "result.append({\n",
    "    'Feature': \"BERT\",\n",
    "    'Avg_Train_Acc': np.mean(Train_acc_bert),\n",
    "    'Avg_Val_Acc': np.mean(Val_acc_bert),\n",
    "    'Std_Train_Acc': np.std(Train_acc_bert),\n",
    "    'Std_Val_Acc': np.std(Val_acc_bert)\n",
    "})"
   ]
  },
  {
   "cell_type": "markdown",
   "id": "a29a01ce-4036-45b9-a230-dc599358ed76",
   "metadata": {},
   "source": [
    "**Covert result to a dataframe to print the accuracies in a tabular format**"
   ]
  },
  {
   "cell_type": "code",
   "execution_count": 18,
   "id": "12c0bed3-70c4-4f14-816b-6c1a40b79c60",
   "metadata": {
    "tags": []
   },
   "outputs": [
    {
     "name": "stdout",
     "output_type": "stream",
     "text": [
      "       Feature  Avg_Train_Acc  Avg_Val_Acc  Std_Train_Acc  Std_Val_Acc\n",
      "0  CountVector         1.0000        0.946       0.000000     0.005831\n",
      "1        TFIDF         1.0000        0.951       0.000000     0.014629\n",
      "2        GloVe         0.9525        0.937       0.013038     0.018601\n",
      "3         BERT         1.0000        0.968       0.000000     0.005099\n"
     ]
    }
   ],
   "source": [
    "result_df = pd.DataFrame(result)\n",
    "print(result_df)"
   ]
  },
  {
   "cell_type": "markdown",
   "id": "591b3d5f-c3ca-4b89-9128-3433f916757d",
   "metadata": {},
   "source": [
    "**Plot a Graph to compare Training and Validation Accuracies for different models**"
   ]
  },
  {
   "cell_type": "code",
   "execution_count": 19,
   "id": "ebce6ab5-893e-4c1d-9fc0-f92d2a426246",
   "metadata": {
    "tags": []
   },
   "outputs": [
    {
     "data": {
      "text/plain": [
       "[1.0, 1.0, 0.9524999976158142, 1.0]"
      ]
     },
     "execution_count": 19,
     "metadata": {},
     "output_type": "execute_result"
    }
   ],
   "source": [
    "train_acc = result_df['Avg_Train_Acc'].tolist()\n",
    "train_acc"
   ]
  },
  {
   "cell_type": "code",
   "execution_count": 20,
   "id": "05239b60-c1dd-4de7-9e46-4e051f2d2300",
   "metadata": {
    "tags": []
   },
   "outputs": [
    {
     "data": {
      "image/png": "[encoded data removed]",
      "text/plain": [
       "<Figure size 1700x600 with 1 Axes>"
      ]
     },
     "metadata": {},
     "output_type": "display_data"
    }
   ],
   "source": [
    "\n",
    "parameters = ['CountVectorizer', 'TFIDF', 'BERT', 'GlOVE']\n",
    "train_acc = result_df['Avg_Train_Acc'].tolist()\n",
    "val_acc = result_df['Avg_Val_Acc'].tolist()\n",
    "# train_acc = [np.mean(Train_acc_count), np.mean(Train_acc_tfidf),np.mean(Train_acc_bert), np.mean(Train_acc_Glove)]\n",
    "# val_acc = [np.mean(Val_acc_count), np.mean(Val_acc_tfidf),np.mean(Val_acc_bert), np.mean(Val_acc_Glove)]\n",
    "\n",
    "width = 0.35\n",
    "x = np.arange(len(parameters))\n",
    "fig, ax = plt.subplots(figsize=(17, 6))\n",
    "ax.bar(x - width/2, train_acc, width, label='Training Accuracy')\n",
    "ax.bar(x + width/2, val_acc, width, label='Validation Accuracy')\n",
    "ax.set_xlabel('Feature Extraction Methods')\n",
    "ax.set_ylabel('Accuracy')\n",
    "ax.set_title('Training and Validation Accuracies by Feature Extraction Method')\n",
    "ax.set_xticks(x)\n",
    "ax.set_xticklabels(parameters)\n",
    "ax.legend()\n",
    "plt.show()"
   ]
  },
  {
   "cell_type": "code",
   "execution_count": 21,
   "id": "6e692a85-2cd2-42a0-a607-84051ab55177",
   "metadata": {
    "tags": []
   },
   "outputs": [
    {
     "data": {
      "text/html": [
       "<div>\n",
       "<style scoped>\n",
       "    .dataframe tbody tr th:only-of-type {\n",
       "        vertical-align: middle;\n",
       "    }\n",
       "\n",
       "    .dataframe tbody tr th {\n",
       "        vertical-align: top;\n",
       "    }\n",
       "\n",
       "    .dataframe thead th {\n",
       "        text-align: right;\n",
       "    }\n",
       "</style>\n",
       "<table border=\"1\" class=\"dataframe\">\n",
       "  <thead>\n",
       "    <tr style=\"text-align: right;\">\n",
       "      <th></th>\n",
       "      <th>ArticleId</th>\n",
       "      <th>Text</th>\n",
       "      <th>Category</th>\n",
       "      <th>CountVector</th>\n",
       "      <th>TFIDF</th>\n",
       "      <th>GloVe</th>\n",
       "      <th>BERT</th>\n",
       "    </tr>\n",
       "  </thead>\n",
       "  <tbody>\n",
       "    <tr>\n",
       "      <th>0</th>\n",
       "      <td>1429</td>\n",
       "      <td>sfa awaits report over mikoliunas the scottish...</td>\n",
       "      <td>sport</td>\n",
       "      <td>[1, 0, 2, 0, 0, 0, 0, 0, 0, 0, 0, 0, 1, 0, 0, ...</td>\n",
       "      <td>[0.07068628369211698, 0.0, 0.1559450364871253,...</td>\n",
       "      <td>[-1.504953, 1.0489184, -1.6432881, 0.22146176,...</td>\n",
       "      <td>[[-0.6921596, -0.58670557, 0.24926306, -0.4062...</td>\n",
       "    </tr>\n",
       "    <tr>\n",
       "      <th>1</th>\n",
       "      <td>1896</td>\n",
       "      <td>parmalat to return to stockmarket parmalat  th...</td>\n",
       "      <td>business</td>\n",
       "      <td>[0, 0, 0, 0, 1, 0, 0, 0, 0, 0, 1, 0, 0, 0, 0, ...</td>\n",
       "      <td>[0.0, 0.0, 0.0, 0.0, 0.1240405633521785, 0.0, ...</td>\n",
       "      <td>[-2.4711528, -0.1927695, -2.6111906, 0.7884381...</td>\n",
       "      <td>[[-0.638439, -0.4999063, 0.32632527, 0.0964038...</td>\n",
       "    </tr>\n",
       "    <tr>\n",
       "      <th>2</th>\n",
       "      <td>1633</td>\n",
       "      <td>edu blasts arsenal arsenal s brazilian midfiel...</td>\n",
       "      <td>sport</td>\n",
       "      <td>[0, 0, 0, 1, 0, 0, 0, 0, 0, 0, 0, 0, 0, 0, 0, ...</td>\n",
       "      <td>[0.0, 0.0, 0.0, 0.09063007530259953, 0.0, 0.0,...</td>\n",
       "      <td>[-0.9112519, 1.5079144, -2.477887, -0.5450648,...</td>\n",
       "      <td>[[-0.5185157, -0.37947765, 0.07328506, -0.6101...</td>\n",
       "    </tr>\n",
       "    <tr>\n",
       "      <th>3</th>\n",
       "      <td>2178</td>\n",
       "      <td>henman decides to quit davis cup tim henman ha...</td>\n",
       "      <td>sport</td>\n",
       "      <td>[0, 0, 0, 0, 0, 0, 0, 0, 0, 0, 0, 0, 0, 0, 0, ...</td>\n",
       "      <td>[0.0, 0.0, 0.0, 0.0, 0.0, 0.0, 0.0, 0.0, 0.0, ...</td>\n",
       "      <td>[-1.5437831, 0.8686301, -1.7728345, -0.1992229...</td>\n",
       "      <td>[[-0.76180494, -0.55865103, 0.28042454, -0.487...</td>\n",
       "    </tr>\n",
       "    <tr>\n",
       "      <th>4</th>\n",
       "      <td>194</td>\n",
       "      <td>french suitor holds lse meeting european stock...</td>\n",
       "      <td>business</td>\n",
       "      <td>[0, 0, 0, 0, 0, 0, 0, 0, 0, 0, 0, 0, 0, 0, 0, ...</td>\n",
       "      <td>[0.0, 0.0, 0.0, 0.0, 0.0, 0.0, 0.0, 0.0, 0.0, ...</td>\n",
       "      <td>[-1.6062019, 1.0062516, -2.461108, 0.18662423,...</td>\n",
       "      <td>[[-1.040333, -0.19826055, -0.01815823, -0.6395...</td>\n",
       "    </tr>\n",
       "    <tr>\n",
       "      <th>...</th>\n",
       "      <td>...</td>\n",
       "      <td>...</td>\n",
       "      <td>...</td>\n",
       "      <td>...</td>\n",
       "      <td>...</td>\n",
       "      <td>...</td>\n",
       "      <td>...</td>\n",
       "    </tr>\n",
       "    <tr>\n",
       "      <th>995</th>\n",
       "      <td>1250</td>\n",
       "      <td>blair  damaged  by blunkett row a majority of ...</td>\n",
       "      <td>politics</td>\n",
       "      <td>[0, 0, 0, 0, 0, 0, 0, 1, 0, 2, 1, 0, 0, 0, 0, ...</td>\n",
       "      <td>[0.0, 0.0, 0.0, 0.0, 0.0, 0.0, 0.0, 0.08861114...</td>\n",
       "      <td>[-2.9384747, -0.08198468, -2.1427119, 1.098952...</td>\n",
       "      <td>[[-0.688539, -0.19720563, 0.19999169, -0.76540...</td>\n",
       "    </tr>\n",
       "    <tr>\n",
       "      <th>996</th>\n",
       "      <td>1639</td>\n",
       "      <td>a november to remember last saturday  one news...</td>\n",
       "      <td>sport</td>\n",
       "      <td>[0, 0, 2, 0, 0, 1, 0, 0, 0, 0, 0, 0, 0, 0, 0, ...</td>\n",
       "      <td>[0.0, 0.0, 0.08324011423673809, 0.0, 0.0, 0.04...</td>\n",
       "      <td>[-2.1787052, 0.85770595, -1.7156782, 0.6814034...</td>\n",
       "      <td>[[-0.14743768, -0.23990116, -0.12520984, -0.51...</td>\n",
       "    </tr>\n",
       "    <tr>\n",
       "      <th>997</th>\n",
       "      <td>916</td>\n",
       "      <td>highbury tunnel players in clear the football ...</td>\n",
       "      <td>sport</td>\n",
       "      <td>[0, 0, 0, 0, 0, 0, 0, 0, 0, 0, 0, 0, 0, 0, 0, ...</td>\n",
       "      <td>[0.0, 0.0, 0.0, 0.0, 0.0, 0.0, 0.0, 0.0, 0.0, ...</td>\n",
       "      <td>[-1.397803, 1.241503, -1.9041436, -0.000832404...</td>\n",
       "      <td>[[-0.70915914, -0.19753301, 0.12053698, -0.546...</td>\n",
       "    </tr>\n",
       "    <tr>\n",
       "      <th>998</th>\n",
       "      <td>2217</td>\n",
       "      <td>top stars join us tsunami tv show brad pitt  r...</td>\n",
       "      <td>entertainment</td>\n",
       "      <td>[0, 0, 0, 0, 1, 0, 0, 0, 0, 0, 0, 0, 0, 0, 0, ...</td>\n",
       "      <td>[0.0, 0.0, 0.0, 0.0, 0.06262571138136022, 0.0,...</td>\n",
       "      <td>[-1.8579051, 0.87572575, -2.718928, 0.06106938...</td>\n",
       "      <td>[[-0.25671557, -0.53557885, 0.46061137, 0.0523...</td>\n",
       "    </tr>\n",
       "    <tr>\n",
       "      <th>999</th>\n",
       "      <td>902</td>\n",
       "      <td>eastwood s baby scoops top oscars clint eastwo...</td>\n",
       "      <td>entertainment</td>\n",
       "      <td>[0, 0, 0, 0, 1, 0, 0, 0, 1, 0, 0, 0, 0, 0, 0, ...</td>\n",
       "      <td>[0.0, 0.0, 0.0, 0.0, 0.048923336744855855, 0.0...</td>\n",
       "      <td>[-1.6102848, 0.34991446, -1.8275838, -0.867088...</td>\n",
       "      <td>[[-0.66848254, -0.41711923, -0.09770477, 0.321...</td>\n",
       "    </tr>\n",
       "  </tbody>\n",
       "</table>\n",
       "<p>1000 rows × 7 columns</p>\n",
       "</div>"
      ],
      "text/plain": [
       "     ArticleId                                               Text  \\\n",
       "0         1429  sfa awaits report over mikoliunas the scottish...   \n",
       "1         1896  parmalat to return to stockmarket parmalat  th...   \n",
       "2         1633  edu blasts arsenal arsenal s brazilian midfiel...   \n",
       "3         2178  henman decides to quit davis cup tim henman ha...   \n",
       "4          194  french suitor holds lse meeting european stock...   \n",
       "..         ...                                                ...   \n",
       "995       1250  blair  damaged  by blunkett row a majority of ...   \n",
       "996       1639  a november to remember last saturday  one news...   \n",
       "997        916  highbury tunnel players in clear the football ...   \n",
       "998       2217  top stars join us tsunami tv show brad pitt  r...   \n",
       "999        902  eastwood s baby scoops top oscars clint eastwo...   \n",
       "\n",
       "          Category                                        CountVector  \\\n",
       "0            sport  [1, 0, 2, 0, 0, 0, 0, 0, 0, 0, 0, 0, 1, 0, 0, ...   \n",
       "1         business  [0, 0, 0, 0, 1, 0, 0, 0, 0, 0, 1, 0, 0, 0, 0, ...   \n",
       "2            sport  [0, 0, 0, 1, 0, 0, 0, 0, 0, 0, 0, 0, 0, 0, 0, ...   \n",
       "3            sport  [0, 0, 0, 0, 0, 0, 0, 0, 0, 0, 0, 0, 0, 0, 0, ...   \n",
       "4         business  [0, 0, 0, 0, 0, 0, 0, 0, 0, 0, 0, 0, 0, 0, 0, ...   \n",
       "..             ...                                                ...   \n",
       "995       politics  [0, 0, 0, 0, 0, 0, 0, 1, 0, 2, 1, 0, 0, 0, 0, ...   \n",
       "996          sport  [0, 0, 2, 0, 0, 1, 0, 0, 0, 0, 0, 0, 0, 0, 0, ...   \n",
       "997          sport  [0, 0, 0, 0, 0, 0, 0, 0, 0, 0, 0, 0, 0, 0, 0, ...   \n",
       "998  entertainment  [0, 0, 0, 0, 1, 0, 0, 0, 0, 0, 0, 0, 0, 0, 0, ...   \n",
       "999  entertainment  [0, 0, 0, 0, 1, 0, 0, 0, 1, 0, 0, 0, 0, 0, 0, ...   \n",
       "\n",
       "                                                 TFIDF  \\\n",
       "0    [0.07068628369211698, 0.0, 0.1559450364871253,...   \n",
       "1    [0.0, 0.0, 0.0, 0.0, 0.1240405633521785, 0.0, ...   \n",
       "2    [0.0, 0.0, 0.0, 0.09063007530259953, 0.0, 0.0,...   \n",
       "3    [0.0, 0.0, 0.0, 0.0, 0.0, 0.0, 0.0, 0.0, 0.0, ...   \n",
       "4    [0.0, 0.0, 0.0, 0.0, 0.0, 0.0, 0.0, 0.0, 0.0, ...   \n",
       "..                                                 ...   \n",
       "995  [0.0, 0.0, 0.0, 0.0, 0.0, 0.0, 0.0, 0.08861114...   \n",
       "996  [0.0, 0.0, 0.08324011423673809, 0.0, 0.0, 0.04...   \n",
       "997  [0.0, 0.0, 0.0, 0.0, 0.0, 0.0, 0.0, 0.0, 0.0, ...   \n",
       "998  [0.0, 0.0, 0.0, 0.0, 0.06262571138136022, 0.0,...   \n",
       "999  [0.0, 0.0, 0.0, 0.0, 0.048923336744855855, 0.0...   \n",
       "\n",
       "                                                 GloVe  \\\n",
       "0    [-1.504953, 1.0489184, -1.6432881, 0.22146176,...   \n",
       "1    [-2.4711528, -0.1927695, -2.6111906, 0.7884381...   \n",
       "2    [-0.9112519, 1.5079144, -2.477887, -0.5450648,...   \n",
       "3    [-1.5437831, 0.8686301, -1.7728345, -0.1992229...   \n",
       "4    [-1.6062019, 1.0062516, -2.461108, 0.18662423,...   \n",
       "..                                                 ...   \n",
       "995  [-2.9384747, -0.08198468, -2.1427119, 1.098952...   \n",
       "996  [-2.1787052, 0.85770595, -1.7156782, 0.6814034...   \n",
       "997  [-1.397803, 1.241503, -1.9041436, -0.000832404...   \n",
       "998  [-1.8579051, 0.87572575, -2.718928, 0.06106938...   \n",
       "999  [-1.6102848, 0.34991446, -1.8275838, -0.867088...   \n",
       "\n",
       "                                                  BERT  \n",
       "0    [[-0.6921596, -0.58670557, 0.24926306, -0.4062...  \n",
       "1    [[-0.638439, -0.4999063, 0.32632527, 0.0964038...  \n",
       "2    [[-0.5185157, -0.37947765, 0.07328506, -0.6101...  \n",
       "3    [[-0.76180494, -0.55865103, 0.28042454, -0.487...  \n",
       "4    [[-1.040333, -0.19826055, -0.01815823, -0.6395...  \n",
       "..                                                 ...  \n",
       "995  [[-0.688539, -0.19720563, 0.19999169, -0.76540...  \n",
       "996  [[-0.14743768, -0.23990116, -0.12520984, -0.51...  \n",
       "997  [[-0.70915914, -0.19753301, 0.12053698, -0.546...  \n",
       "998  [[-0.25671557, -0.53557885, 0.46061137, 0.0523...  \n",
       "999  [[-0.66848254, -0.41711923, -0.09770477, 0.321...  \n",
       "\n",
       "[1000 rows x 7 columns]"
      ]
     },
     "execution_count": 21,
     "metadata": {},
     "output_type": "execute_result"
    }
   ],
   "source": [
    "data"
   ]
  },
  {
   "cell_type": "markdown",
   "id": "8abc9f33-58fc-43b3-bfd6-942d05869eec",
   "metadata": {
    "tags": []
   },
   "source": [
    "**Select the model with best accuracies**"
   ]
  },
  {
   "cell_type": "code",
   "execution_count": 22,
   "id": "e2c4a3e3-719f-49d7-9173-5512bc8ba451",
   "metadata": {},
   "outputs": [
    {
     "name": "stdout",
     "output_type": "stream",
     "text": [
      "0    0.946\n",
      "1    0.951\n",
      "2    0.937\n",
      "3    0.968\n",
      "Name: Avg_Val_Acc, dtype: float64\n"
     ]
    }
   ],
   "source": [
    "values = result_df['Avg_Val_Acc']\n",
    "print(values)\n",
    "keys = result_df['Feature']\n",
    "lis = [(values[i], keys[i]) for i in range(3)]\n",
    "lis.sort(reverse = True)\n",
    "ans = lis[0][1]\n",
    "feature = np.array(data[ans].tolist()) \n",
    "feature_test = np.array(test[ans].tolist()) "
   ]
  },
  {
   "cell_type": "code",
   "execution_count": 23,
   "id": "a6a80909-03c4-42d5-ac6c-49ae3a4dd13e",
   "metadata": {
    "tags": []
   },
   "outputs": [
    {
     "data": {
      "text/plain": [
       "'TFIDF'"
      ]
     },
     "execution_count": 23,
     "metadata": {},
     "output_type": "execute_result"
    }
   ],
   "source": [
    "ans"
   ]
  },
  {
   "cell_type": "code",
   "execution_count": 24,
   "id": "58382302-b3cf-40c5-8078-671183b89c9f",
   "metadata": {
    "tags": []
   },
   "outputs": [
    {
     "data": {
      "text/plain": [
       "(1000, 1000)"
      ]
     },
     "execution_count": 24,
     "metadata": {},
     "output_type": "execute_result"
    }
   ],
   "source": [
    "feature.shape"
   ]
  },
  {
   "cell_type": "code",
   "execution_count": 25,
   "id": "0d87648c-8cba-40de-b7b3-fc513ebed98a",
   "metadata": {
    "tags": []
   },
   "outputs": [
    {
     "data": {
      "text/plain": [
       "(735, 1000)"
      ]
     },
     "execution_count": 25,
     "metadata": {},
     "output_type": "execute_result"
    }
   ],
   "source": [
    "feature_test.shape"
   ]
  },
  {
   "cell_type": "markdown",
   "id": "845c9d45-d3fc-4a27-8be3-26be55dbe12a",
   "metadata": {},
   "source": [
    "**Evaluating and displaying the chosen model's performance w.r.t different learning rates**"
   ]
  },
  {
   "cell_type": "code",
   "execution_count": 26,
   "id": "0a8da1da-b045-4920-b6e3-73e14d1ac1fd",
   "metadata": {
    "tags": []
   },
   "outputs": [
    {
     "name": "stderr",
     "output_type": "stream",
     "text": [
      "WARNING:absl:At this time, the v2.11+ optimizer `tf.keras.optimizers.Adam` runs slowly on M1/M2 Macs, please use the legacy Keras optimizer instead, located at `tf.keras.optimizers.legacy.Adam`.\n"
     ]
    },
    {
     "name": "stdout",
     "output_type": "stream",
     "text": [
      "7/7 [==============================] - 0s 567us/step - loss: 1.2328 - accuracy: 0.8600\n"
     ]
    },
    {
     "name": "stderr",
     "output_type": "stream",
     "text": [
      "WARNING:absl:At this time, the v2.11+ optimizer `tf.keras.optimizers.Adam` runs slowly on M1/M2 Macs, please use the legacy Keras optimizer instead, located at `tf.keras.optimizers.legacy.Adam`.\n"
     ]
    },
    {
     "name": "stdout",
     "output_type": "stream",
     "text": [
      "7/7 [==============================] - 0s 583us/step - loss: 1.2709 - accuracy: 0.8500\n"
     ]
    },
    {
     "name": "stderr",
     "output_type": "stream",
     "text": [
      "WARNING:absl:At this time, the v2.11+ optimizer `tf.keras.optimizers.Adam` runs slowly on M1/M2 Macs, please use the legacy Keras optimizer instead, located at `tf.keras.optimizers.legacy.Adam`.\n"
     ]
    },
    {
     "name": "stdout",
     "output_type": "stream",
     "text": [
      "7/7 [==============================] - 0s 611us/step - loss: 1.2643 - accuracy: 0.7250\n"
     ]
    },
    {
     "name": "stderr",
     "output_type": "stream",
     "text": [
      "WARNING:absl:At this time, the v2.11+ optimizer `tf.keras.optimizers.Adam` runs slowly on M1/M2 Macs, please use the legacy Keras optimizer instead, located at `tf.keras.optimizers.legacy.Adam`.\n"
     ]
    },
    {
     "name": "stdout",
     "output_type": "stream",
     "text": [
      "7/7 [==============================] - 0s 613us/step - loss: 1.2092 - accuracy: 0.9000\n"
     ]
    },
    {
     "name": "stderr",
     "output_type": "stream",
     "text": [
      "WARNING:absl:At this time, the v2.11+ optimizer `tf.keras.optimizers.Adam` runs slowly on M1/M2 Macs, please use the legacy Keras optimizer instead, located at `tf.keras.optimizers.legacy.Adam`.\n"
     ]
    },
    {
     "name": "stdout",
     "output_type": "stream",
     "text": [
      "7/7 [==============================] - 0s 575us/step - loss: 1.2485 - accuracy: 0.8350\n"
     ]
    },
    {
     "name": "stderr",
     "output_type": "stream",
     "text": [
      "WARNING:absl:At this time, the v2.11+ optimizer `tf.keras.optimizers.Adam` runs slowly on M1/M2 Macs, please use the legacy Keras optimizer instead, located at `tf.keras.optimizers.legacy.Adam`.\n"
     ]
    },
    {
     "name": "stdout",
     "output_type": "stream",
     "text": [
      "7/7 [==============================] - 0s 600us/step - loss: 0.2449 - accuracy: 0.9400\n"
     ]
    },
    {
     "name": "stderr",
     "output_type": "stream",
     "text": [
      "WARNING:absl:At this time, the v2.11+ optimizer `tf.keras.optimizers.Adam` runs slowly on M1/M2 Macs, please use the legacy Keras optimizer instead, located at `tf.keras.optimizers.legacy.Adam`.\n"
     ]
    },
    {
     "name": "stdout",
     "output_type": "stream",
     "text": [
      "7/7 [==============================] - 0s 608us/step - loss: 0.2797 - accuracy: 0.9450\n"
     ]
    },
    {
     "name": "stderr",
     "output_type": "stream",
     "text": [
      "WARNING:absl:At this time, the v2.11+ optimizer `tf.keras.optimizers.Adam` runs slowly on M1/M2 Macs, please use the legacy Keras optimizer instead, located at `tf.keras.optimizers.legacy.Adam`.\n"
     ]
    },
    {
     "name": "stdout",
     "output_type": "stream",
     "text": [
      "7/7 [==============================] - 0s 535us/step - loss: 0.2517 - accuracy: 0.9400\n"
     ]
    },
    {
     "name": "stderr",
     "output_type": "stream",
     "text": [
      "WARNING:absl:At this time, the v2.11+ optimizer `tf.keras.optimizers.Adam` runs slowly on M1/M2 Macs, please use the legacy Keras optimizer instead, located at `tf.keras.optimizers.legacy.Adam`.\n"
     ]
    },
    {
     "name": "stdout",
     "output_type": "stream",
     "text": [
      "7/7 [==============================] - 0s 553us/step - loss: 0.2183 - accuracy: 0.9450\n"
     ]
    },
    {
     "name": "stderr",
     "output_type": "stream",
     "text": [
      "WARNING:absl:At this time, the v2.11+ optimizer `tf.keras.optimizers.Adam` runs slowly on M1/M2 Macs, please use the legacy Keras optimizer instead, located at `tf.keras.optimizers.legacy.Adam`.\n"
     ]
    },
    {
     "name": "stdout",
     "output_type": "stream",
     "text": [
      "7/7 [==============================] - 0s 687us/step - loss: 0.2325 - accuracy: 0.9500\n"
     ]
    },
    {
     "name": "stderr",
     "output_type": "stream",
     "text": [
      "WARNING:absl:At this time, the v2.11+ optimizer `tf.keras.optimizers.Adam` runs slowly on M1/M2 Macs, please use the legacy Keras optimizer instead, located at `tf.keras.optimizers.legacy.Adam`.\n"
     ]
    },
    {
     "name": "stdout",
     "output_type": "stream",
     "text": [
      "7/7 [==============================] - 0s 1ms/step - loss: 0.1531 - accuracy: 0.9400\n"
     ]
    },
    {
     "name": "stderr",
     "output_type": "stream",
     "text": [
      "WARNING:absl:At this time, the v2.11+ optimizer `tf.keras.optimizers.Adam` runs slowly on M1/M2 Macs, please use the legacy Keras optimizer instead, located at `tf.keras.optimizers.legacy.Adam`.\n"
     ]
    },
    {
     "name": "stdout",
     "output_type": "stream",
     "text": [
      "7/7 [==============================] - 0s 588us/step - loss: 0.1772 - accuracy: 0.9300\n"
     ]
    },
    {
     "name": "stderr",
     "output_type": "stream",
     "text": [
      "WARNING:absl:At this time, the v2.11+ optimizer `tf.keras.optimizers.Adam` runs slowly on M1/M2 Macs, please use the legacy Keras optimizer instead, located at `tf.keras.optimizers.legacy.Adam`.\n"
     ]
    },
    {
     "name": "stdout",
     "output_type": "stream",
     "text": [
      "7/7 [==============================] - 0s 670us/step - loss: 0.1664 - accuracy: 0.9500\n"
     ]
    },
    {
     "name": "stderr",
     "output_type": "stream",
     "text": [
      "WARNING:absl:At this time, the v2.11+ optimizer `tf.keras.optimizers.Adam` runs slowly on M1/M2 Macs, please use the legacy Keras optimizer instead, located at `tf.keras.optimizers.legacy.Adam`.\n"
     ]
    },
    {
     "name": "stdout",
     "output_type": "stream",
     "text": [
      "7/7 [==============================] - 0s 559us/step - loss: 0.1327 - accuracy: 0.9700\n"
     ]
    },
    {
     "name": "stderr",
     "output_type": "stream",
     "text": [
      "WARNING:absl:At this time, the v2.11+ optimizer `tf.keras.optimizers.Adam` runs slowly on M1/M2 Macs, please use the legacy Keras optimizer instead, located at `tf.keras.optimizers.legacy.Adam`.\n"
     ]
    },
    {
     "name": "stdout",
     "output_type": "stream",
     "text": [
      "7/7 [==============================] - 0s 543us/step - loss: 0.1539 - accuracy: 0.9700\n"
     ]
    },
    {
     "name": "stderr",
     "output_type": "stream",
     "text": [
      "WARNING:absl:At this time, the v2.11+ optimizer `tf.keras.optimizers.Adam` runs slowly on M1/M2 Macs, please use the legacy Keras optimizer instead, located at `tf.keras.optimizers.legacy.Adam`.\n"
     ]
    },
    {
     "name": "stdout",
     "output_type": "stream",
     "text": [
      "7/7 [==============================] - 0s 568us/step - loss: 0.1600 - accuracy: 0.9400\n"
     ]
    },
    {
     "name": "stderr",
     "output_type": "stream",
     "text": [
      "WARNING:absl:At this time, the v2.11+ optimizer `tf.keras.optimizers.Adam` runs slowly on M1/M2 Macs, please use the legacy Keras optimizer instead, located at `tf.keras.optimizers.legacy.Adam`.\n"
     ]
    },
    {
     "name": "stdout",
     "output_type": "stream",
     "text": [
      "7/7 [==============================] - 0s 623us/step - loss: 0.2153 - accuracy: 0.9300\n"
     ]
    },
    {
     "name": "stderr",
     "output_type": "stream",
     "text": [
      "WARNING:absl:At this time, the v2.11+ optimizer `tf.keras.optimizers.Adam` runs slowly on M1/M2 Macs, please use the legacy Keras optimizer instead, located at `tf.keras.optimizers.legacy.Adam`.\n"
     ]
    },
    {
     "name": "stdout",
     "output_type": "stream",
     "text": [
      "7/7 [==============================] - 0s 533us/step - loss: 0.1877 - accuracy: 0.9350\n"
     ]
    },
    {
     "name": "stderr",
     "output_type": "stream",
     "text": [
      "WARNING:absl:At this time, the v2.11+ optimizer `tf.keras.optimizers.Adam` runs slowly on M1/M2 Macs, please use the legacy Keras optimizer instead, located at `tf.keras.optimizers.legacy.Adam`.\n"
     ]
    },
    {
     "name": "stdout",
     "output_type": "stream",
     "text": [
      "7/7 [==============================] - 0s 578us/step - loss: 0.1318 - accuracy: 0.9600\n"
     ]
    },
    {
     "name": "stderr",
     "output_type": "stream",
     "text": [
      "WARNING:absl:At this time, the v2.11+ optimizer `tf.keras.optimizers.Adam` runs slowly on M1/M2 Macs, please use the legacy Keras optimizer instead, located at `tf.keras.optimizers.legacy.Adam`.\n"
     ]
    },
    {
     "name": "stdout",
     "output_type": "stream",
     "text": [
      "7/7 [==============================] - 0s 693us/step - loss: 0.1885 - accuracy: 0.9650\n"
     ]
    },
    {
     "name": "stderr",
     "output_type": "stream",
     "text": [
      "WARNING:absl:At this time, the v2.11+ optimizer `tf.keras.optimizers.Adam` runs slowly on M1/M2 Macs, please use the legacy Keras optimizer instead, located at `tf.keras.optimizers.legacy.Adam`.\n"
     ]
    },
    {
     "name": "stdout",
     "output_type": "stream",
     "text": [
      "7/7 [==============================] - 0s 576us/step - loss: 0.2343 - accuracy: 0.9350\n"
     ]
    },
    {
     "name": "stderr",
     "output_type": "stream",
     "text": [
      "WARNING:absl:At this time, the v2.11+ optimizer `tf.keras.optimizers.Adam` runs slowly on M1/M2 Macs, please use the legacy Keras optimizer instead, located at `tf.keras.optimizers.legacy.Adam`.\n"
     ]
    },
    {
     "name": "stdout",
     "output_type": "stream",
     "text": [
      "7/7 [==============================] - 0s 621us/step - loss: 0.2512 - accuracy: 0.9400\n"
     ]
    },
    {
     "name": "stderr",
     "output_type": "stream",
     "text": [
      "WARNING:absl:At this time, the v2.11+ optimizer `tf.keras.optimizers.Adam` runs slowly on M1/M2 Macs, please use the legacy Keras optimizer instead, located at `tf.keras.optimizers.legacy.Adam`.\n"
     ]
    },
    {
     "name": "stdout",
     "output_type": "stream",
     "text": [
      "7/7 [==============================] - 0s 719us/step - loss: 0.3484 - accuracy: 0.9400\n"
     ]
    },
    {
     "name": "stderr",
     "output_type": "stream",
     "text": [
      "WARNING:absl:At this time, the v2.11+ optimizer `tf.keras.optimizers.Adam` runs slowly on M1/M2 Macs, please use the legacy Keras optimizer instead, located at `tf.keras.optimizers.legacy.Adam`.\n"
     ]
    },
    {
     "name": "stdout",
     "output_type": "stream",
     "text": [
      "7/7 [==============================] - 0s 530us/step - loss: 0.1878 - accuracy: 0.9450\n"
     ]
    },
    {
     "name": "stderr",
     "output_type": "stream",
     "text": [
      "WARNING:absl:At this time, the v2.11+ optimizer `tf.keras.optimizers.Adam` runs slowly on M1/M2 Macs, please use the legacy Keras optimizer instead, located at `tf.keras.optimizers.legacy.Adam`.\n"
     ]
    },
    {
     "name": "stdout",
     "output_type": "stream",
     "text": [
      "7/7 [==============================] - 0s 593us/step - loss: 0.2945 - accuracy: 0.9600\n"
     ]
    },
    {
     "name": "stderr",
     "output_type": "stream",
     "text": [
      "WARNING:absl:At this time, the v2.11+ optimizer `tf.keras.optimizers.Adam` runs slowly on M1/M2 Macs, please use the legacy Keras optimizer instead, located at `tf.keras.optimizers.legacy.Adam`.\n"
     ]
    },
    {
     "name": "stdout",
     "output_type": "stream",
     "text": [
      "7/7 [==============================] - 0s 519us/step - loss: 0.4078 - accuracy: 0.9200\n"
     ]
    },
    {
     "name": "stderr",
     "output_type": "stream",
     "text": [
      "WARNING:absl:At this time, the v2.11+ optimizer `tf.keras.optimizers.Adam` runs slowly on M1/M2 Macs, please use the legacy Keras optimizer instead, located at `tf.keras.optimizers.legacy.Adam`.\n"
     ]
    },
    {
     "name": "stdout",
     "output_type": "stream",
     "text": [
      "7/7 [==============================] - 0s 617us/step - loss: 0.6258 - accuracy: 0.9150\n"
     ]
    },
    {
     "name": "stderr",
     "output_type": "stream",
     "text": [
      "WARNING:absl:At this time, the v2.11+ optimizer `tf.keras.optimizers.Adam` runs slowly on M1/M2 Macs, please use the legacy Keras optimizer instead, located at `tf.keras.optimizers.legacy.Adam`.\n"
     ]
    },
    {
     "name": "stdout",
     "output_type": "stream",
     "text": [
      "7/7 [==============================] - 0s 613us/step - loss: 0.5049 - accuracy: 0.9350\n"
     ]
    },
    {
     "name": "stderr",
     "output_type": "stream",
     "text": [
      "WARNING:absl:At this time, the v2.11+ optimizer `tf.keras.optimizers.Adam` runs slowly on M1/M2 Macs, please use the legacy Keras optimizer instead, located at `tf.keras.optimizers.legacy.Adam`.\n"
     ]
    },
    {
     "name": "stdout",
     "output_type": "stream",
     "text": [
      "7/7 [==============================] - 0s 546us/step - loss: 0.6337 - accuracy: 0.9400\n"
     ]
    },
    {
     "name": "stderr",
     "output_type": "stream",
     "text": [
      "WARNING:absl:At this time, the v2.11+ optimizer `tf.keras.optimizers.Adam` runs slowly on M1/M2 Macs, please use the legacy Keras optimizer instead, located at `tf.keras.optimizers.legacy.Adam`.\n"
     ]
    },
    {
     "name": "stdout",
     "output_type": "stream",
     "text": [
      "7/7 [==============================] - 0s 545us/step - loss: 0.5913 - accuracy: 0.9150\n"
     ]
    },
    {
     "name": "stderr",
     "output_type": "stream",
     "text": [
      "WARNING:absl:At this time, the v2.11+ optimizer `tf.keras.optimizers.Adam` runs slowly on M1/M2 Macs, please use the legacy Keras optimizer instead, located at `tf.keras.optimizers.legacy.Adam`.\n"
     ]
    },
    {
     "name": "stdout",
     "output_type": "stream",
     "text": [
      "7/7 [==============================] - 0s 586us/step - loss: 2.7978 - accuracy: 0.9000\n"
     ]
    },
    {
     "name": "stderr",
     "output_type": "stream",
     "text": [
      "WARNING:absl:At this time, the v2.11+ optimizer `tf.keras.optimizers.Adam` runs slowly on M1/M2 Macs, please use the legacy Keras optimizer instead, located at `tf.keras.optimizers.legacy.Adam`.\n"
     ]
    },
    {
     "name": "stdout",
     "output_type": "stream",
     "text": [
      "7/7 [==============================] - 0s 1ms/step - loss: 1.9800 - accuracy: 0.9150\n"
     ]
    },
    {
     "name": "stderr",
     "output_type": "stream",
     "text": [
      "WARNING:absl:At this time, the v2.11+ optimizer `tf.keras.optimizers.Adam` runs slowly on M1/M2 Macs, please use the legacy Keras optimizer instead, located at `tf.keras.optimizers.legacy.Adam`.\n"
     ]
    },
    {
     "name": "stdout",
     "output_type": "stream",
     "text": [
      "7/7 [==============================] - 0s 572us/step - loss: 2.1560 - accuracy: 0.8950\n"
     ]
    },
    {
     "name": "stderr",
     "output_type": "stream",
     "text": [
      "WARNING:absl:At this time, the v2.11+ optimizer `tf.keras.optimizers.Adam` runs slowly on M1/M2 Macs, please use the legacy Keras optimizer instead, located at `tf.keras.optimizers.legacy.Adam`.\n"
     ]
    },
    {
     "name": "stdout",
     "output_type": "stream",
     "text": [
      "7/7 [==============================] - 0s 677us/step - loss: 1.4386 - accuracy: 0.9050\n"
     ]
    },
    {
     "name": "stderr",
     "output_type": "stream",
     "text": [
      "WARNING:absl:At this time, the v2.11+ optimizer `tf.keras.optimizers.Adam` runs slowly on M1/M2 Macs, please use the legacy Keras optimizer instead, located at `tf.keras.optimizers.legacy.Adam`.\n"
     ]
    },
    {
     "name": "stdout",
     "output_type": "stream",
     "text": [
      "7/7 [==============================] - 0s 592us/step - loss: 1.4653 - accuracy: 0.8250\n"
     ]
    }
   ],
   "source": [
    "\n",
    "num_classes = 5\n",
    "learning_rates = [0.0001, 0.0003, 0.001, 0.003, 0.01, 0.03, 0.1]\n",
    "\n",
    "def createModel(input_dim, learning_rate):\n",
    "    input_text = Input(shape=(input_dim,))\n",
    "    hidden1 = Dense(128, activation='relu')(input_text)\n",
    "    hidden2 = Dense(128, activation='relu')(hidden1)\n",
    "    output = Dense(num_classes, activation='softmax')(hidden2)\n",
    "    optimizer = Adam(learning_rate=learning_rate)\n",
    "    model = Model(inputs=input_text, outputs=output)\n",
    "    model.compile(loss='categorical_crossentropy', optimizer=optimizer, metrics=['accuracy'])\n",
    "    return model\n",
    "\n",
    "# features = np.concatenate(data['bert'].values)\n",
    "input_dim = feature.shape[1]\n",
    "result_lr=[]\n",
    "\n",
    "cv = KFold(n_splits=5, shuffle=True, random_state=42)\n",
    "\n",
    "for learning_rate in learning_rates:\n",
    "    Train_acc = []\n",
    "    Val_acc = []\n",
    "\n",
    "    for train_index, val_index in cv.split(feature):\n",
    "        X_train, X_val = feature[train_index], feature[val_index]\n",
    "        y_train, y_val = y_train_one_hot[train_index], y_train_one_hot[val_index]\n",
    "\n",
    "        model = createModel(input_dim, learning_rate)\n",
    "        model_result = model.fit(X_train, y_train, epochs=10, verbose=0)  # Adjust epochs and other hyperparameters as needed\n",
    "        train_acc = model_result.history['accuracy'][-1]\n",
    "\n",
    "        val_loss, val_accuracy = model.evaluate(X_val, y_val)\n",
    "\n",
    "        Train_acc.append(train_acc)\n",
    "        Val_acc.append(val_accuracy)\n",
    "\n",
    "    # Print average training and validation accuracy for each learning rate\n",
    "    avg_train_acc = np.mean(Train_acc)\n",
    "    avg_val_acc = np.mean(Val_acc)\n",
    "    result_lr.append({\n",
    "    'Learning_Rate': learning_rate,\n",
    "    'Training_Accuracy': np.mean(avg_train_acc),\n",
    "    'Validation_Accuracy': np.mean(avg_val_acc)\n",
    "    })\n",
    "\n"
   ]
  },
  {
   "cell_type": "code",
   "execution_count": 27,
   "id": "091116a4-87e8-4cc5-aba0-3216d4c76661",
   "metadata": {
    "tags": []
   },
   "outputs": [
    {
     "name": "stdout",
     "output_type": "stream",
     "text": [
      "   Learning_Rate  Training_Accuracy  Validation_Accuracy\n",
      "0         0.0001            0.88425                0.834\n",
      "1         0.0003            0.98850                0.944\n",
      "2         0.0010            1.00000                0.952\n",
      "3         0.0030            1.00000                0.946\n",
      "4         0.0100            1.00000                0.944\n",
      "5         0.0300            0.99750                0.925\n",
      "6         0.1000            0.98100                0.888\n"
     ]
    }
   ],
   "source": [
    "result_lr_df = pd.DataFrame(result_lr)\n",
    "print(result_lr_df)"
   ]
  },
  {
   "cell_type": "markdown",
   "id": "e9f27b23-5b2b-4a71-86f3-15166688655c",
   "metadata": {},
   "source": [
    "**Plot a graph to visualize Training and Validation accuracy trends w.r.t learning rates**"
   ]
  },
  {
   "cell_type": "code",
   "execution_count": 28,
   "id": "7a39ce61-3072-4e52-aba1-9dc94464dfa8",
   "metadata": {
    "tags": []
   },
   "outputs": [
    {
     "data": {
      "image/png": "[encoded data removed]",
      "text/plain": [
       "<Figure size 1000x600 with 1 Axes>"
      ]
     },
     "metadata": {},
     "output_type": "display_data"
    }
   ],
   "source": [
    "\n",
    "\n",
    "plt.figure(figsize=(10, 6))\n",
    "plt.plot(result_lr_df['Learning_Rate'], result_lr_df['Training_Accuracy'], label='Training Accuracy')\n",
    "plt.plot(result_lr_df['Learning_Rate'], result_lr_df['Validation_Accuracy'], label='Validation Accuracy')\n",
    "plt.xscale('log')  # Use log scale for better visualization\n",
    "plt.xlabel('Learning Rate')\n",
    "plt.ylabel('Accuracy')\n",
    "plt.title('Training and Validation Accuracy vs Learning Rate')\n",
    "plt.legend()\n",
    "plt.show()"
   ]
  },
  {
   "cell_type": "markdown",
   "id": "302537f9-ca94-4b1d-b541-a6a91181b5a1",
   "metadata": {},
   "source": [
    "**Evaluating and displaying the chosen model's performance w.r.t different optimizers**"
   ]
  },
  {
   "cell_type": "code",
   "execution_count": 29,
   "id": "def62a39-d47f-4e0a-b287-e4c55a0d24b2",
   "metadata": {
    "tags": []
   },
   "outputs": [
    {
     "name": "stderr",
     "output_type": "stream",
     "text": [
      "WARNING:absl:At this time, the v2.11+ optimizer `tf.keras.optimizers.SGD` runs slowly on M1/M2 Macs, please use the legacy Keras optimizer instead, located at `tf.keras.optimizers.legacy.SGD`.\n"
     ]
    },
    {
     "name": "stdout",
     "output_type": "stream",
     "text": [
      "7/7 [==============================] - 0s 598us/step - loss: 1.5853 - accuracy: 0.2750\n"
     ]
    },
    {
     "name": "stderr",
     "output_type": "stream",
     "text": [
      "WARNING:absl:At this time, the v2.11+ optimizer `tf.keras.optimizers.SGD` runs slowly on M1/M2 Macs, please use the legacy Keras optimizer instead, located at `tf.keras.optimizers.legacy.SGD`.\n"
     ]
    },
    {
     "name": "stdout",
     "output_type": "stream",
     "text": [
      "7/7 [==============================] - 0s 546us/step - loss: 1.5913 - accuracy: 0.2700\n"
     ]
    },
    {
     "name": "stderr",
     "output_type": "stream",
     "text": [
      "WARNING:absl:At this time, the v2.11+ optimizer `tf.keras.optimizers.SGD` runs slowly on M1/M2 Macs, please use the legacy Keras optimizer instead, located at `tf.keras.optimizers.legacy.SGD`.\n"
     ]
    },
    {
     "name": "stdout",
     "output_type": "stream",
     "text": [
      "7/7 [==============================] - 0s 502us/step - loss: 1.6013 - accuracy: 0.2300\n"
     ]
    },
    {
     "name": "stderr",
     "output_type": "stream",
     "text": [
      "WARNING:absl:At this time, the v2.11+ optimizer `tf.keras.optimizers.SGD` runs slowly on M1/M2 Macs, please use the legacy Keras optimizer instead, located at `tf.keras.optimizers.legacy.SGD`.\n"
     ]
    },
    {
     "name": "stdout",
     "output_type": "stream",
     "text": [
      "7/7 [==============================] - 0s 570us/step - loss: 1.5964 - accuracy: 0.1950\n"
     ]
    },
    {
     "name": "stderr",
     "output_type": "stream",
     "text": [
      "WARNING:absl:At this time, the v2.11+ optimizer `tf.keras.optimizers.SGD` runs slowly on M1/M2 Macs, please use the legacy Keras optimizer instead, located at `tf.keras.optimizers.legacy.SGD`.\n"
     ]
    },
    {
     "name": "stdout",
     "output_type": "stream",
     "text": [
      "7/7 [==============================] - 0s 690us/step - loss: 1.5840 - accuracy: 0.2950\n"
     ]
    },
    {
     "name": "stderr",
     "output_type": "stream",
     "text": [
      "WARNING:absl:At this time, the v2.11+ optimizer `tf.keras.optimizers.Adam` runs slowly on M1/M2 Macs, please use the legacy Keras optimizer instead, located at `tf.keras.optimizers.legacy.Adam`.\n"
     ]
    },
    {
     "name": "stdout",
     "output_type": "stream",
     "text": [
      "7/7 [==============================] - 0s 602us/step - loss: 0.1447 - accuracy: 0.9350\n"
     ]
    },
    {
     "name": "stderr",
     "output_type": "stream",
     "text": [
      "WARNING:absl:At this time, the v2.11+ optimizer `tf.keras.optimizers.Adam` runs slowly on M1/M2 Macs, please use the legacy Keras optimizer instead, located at `tf.keras.optimizers.legacy.Adam`.\n"
     ]
    },
    {
     "name": "stdout",
     "output_type": "stream",
     "text": [
      "7/7 [==============================] - 0s 584us/step - loss: 0.1796 - accuracy: 0.9450\n"
     ]
    },
    {
     "name": "stderr",
     "output_type": "stream",
     "text": [
      "WARNING:absl:At this time, the v2.11+ optimizer `tf.keras.optimizers.Adam` runs slowly on M1/M2 Macs, please use the legacy Keras optimizer instead, located at `tf.keras.optimizers.legacy.Adam`.\n"
     ]
    },
    {
     "name": "stdout",
     "output_type": "stream",
     "text": [
      "7/7 [==============================] - 0s 534us/step - loss: 0.1821 - accuracy: 0.9350\n"
     ]
    },
    {
     "name": "stderr",
     "output_type": "stream",
     "text": [
      "WARNING:absl:At this time, the v2.11+ optimizer `tf.keras.optimizers.Adam` runs slowly on M1/M2 Macs, please use the legacy Keras optimizer instead, located at `tf.keras.optimizers.legacy.Adam`.\n"
     ]
    },
    {
     "name": "stdout",
     "output_type": "stream",
     "text": [
      "7/7 [==============================] - 0s 687us/step - loss: 0.1191 - accuracy: 0.9600\n"
     ]
    },
    {
     "name": "stderr",
     "output_type": "stream",
     "text": [
      "WARNING:absl:At this time, the v2.11+ optimizer `tf.keras.optimizers.Adam` runs slowly on M1/M2 Macs, please use the legacy Keras optimizer instead, located at `tf.keras.optimizers.legacy.Adam`.\n"
     ]
    },
    {
     "name": "stdout",
     "output_type": "stream",
     "text": [
      "7/7 [==============================] - 0s 565us/step - loss: 0.1562 - accuracy: 0.9700\n"
     ]
    },
    {
     "name": "stderr",
     "output_type": "stream",
     "text": [
      "WARNING:absl:At this time, the v2.11+ optimizer `tf.keras.optimizers.RMSprop` runs slowly on M1/M2 Macs, please use the legacy Keras optimizer instead, located at `tf.keras.optimizers.legacy.RMSprop`.\n"
     ]
    },
    {
     "name": "stdout",
     "output_type": "stream",
     "text": [
      "7/7 [==============================] - 0s 545us/step - loss: 0.1310 - accuracy: 0.9450\n"
     ]
    },
    {
     "name": "stderr",
     "output_type": "stream",
     "text": [
      "WARNING:absl:At this time, the v2.11+ optimizer `tf.keras.optimizers.RMSprop` runs slowly on M1/M2 Macs, please use the legacy Keras optimizer instead, located at `tf.keras.optimizers.legacy.RMSprop`.\n"
     ]
    },
    {
     "name": "stdout",
     "output_type": "stream",
     "text": [
      "7/7 [==============================] - 0s 606us/step - loss: 0.1629 - accuracy: 0.9450\n"
     ]
    },
    {
     "name": "stderr",
     "output_type": "stream",
     "text": [
      "WARNING:absl:At this time, the v2.11+ optimizer `tf.keras.optimizers.RMSprop` runs slowly on M1/M2 Macs, please use the legacy Keras optimizer instead, located at `tf.keras.optimizers.legacy.RMSprop`.\n"
     ]
    },
    {
     "name": "stdout",
     "output_type": "stream",
     "text": [
      "7/7 [==============================] - 0s 529us/step - loss: 0.1877 - accuracy: 0.9300\n"
     ]
    },
    {
     "name": "stderr",
     "output_type": "stream",
     "text": [
      "WARNING:absl:At this time, the v2.11+ optimizer `tf.keras.optimizers.RMSprop` runs slowly on M1/M2 Macs, please use the legacy Keras optimizer instead, located at `tf.keras.optimizers.legacy.RMSprop`.\n"
     ]
    },
    {
     "name": "stdout",
     "output_type": "stream",
     "text": [
      "7/7 [==============================] - 0s 514us/step - loss: 0.1499 - accuracy: 0.9550\n"
     ]
    },
    {
     "name": "stderr",
     "output_type": "stream",
     "text": [
      "WARNING:absl:At this time, the v2.11+ optimizer `tf.keras.optimizers.RMSprop` runs slowly on M1/M2 Macs, please use the legacy Keras optimizer instead, located at `tf.keras.optimizers.legacy.RMSprop`.\n"
     ]
    },
    {
     "name": "stdout",
     "output_type": "stream",
     "text": [
      "7/7 [==============================] - 0s 610us/step - loss: 0.1692 - accuracy: 0.9650\n"
     ]
    }
   ],
   "source": [
    "\n",
    "num_classes = 5\n",
    "optimizers = ['SGD', 'Adam', 'RMSprop']\n",
    "\n",
    "def createModel(input_dim, optimizer):\n",
    "    input_text = Input(shape=(input_dim,))\n",
    "    hidden1 = Dense(128, activation='relu')(input_text)\n",
    "    hidden2 = Dense(128, activation='relu')(hidden1)\n",
    "    output = Dense(num_classes, activation='softmax')(hidden2)\n",
    "    \n",
    "    if optimizer == 'SGD':\n",
    "        optimizer = SGD()\n",
    "    elif optimizer == 'Adam':\n",
    "        optimizer = Adam()\n",
    "    elif optimizer == 'RMSprop':\n",
    "        optimizer = RMSprop()\n",
    "\n",
    "    model = Model(inputs=input_text, outputs=output)\n",
    "    model.compile(loss='categorical_crossentropy', optimizer=optimizer, metrics=['accuracy'])\n",
    "    return model\n",
    "\n",
    "result_opt=[]\n",
    "# features = np.concatenate(data['bert'].values)\n",
    "input_dim = feature.shape[1]\n",
    "\n",
    "cv = KFold(n_splits=5, shuffle=True, random_state=42)\n",
    "\n",
    "for optimizer in optimizers:\n",
    "    Train_acc = []\n",
    "    Val_acc = []\n",
    "\n",
    "    for train_index, val_index in cv.split(feature):\n",
    "        X_train, X_val = feature[train_index], feature[val_index]\n",
    "        y_train, y_val = y_train_one_hot[train_index], y_train_one_hot[val_index]\n",
    "\n",
    "        model = createModel(input_dim, optimizer)\n",
    "        model_result = model.fit(X_train, y_train, epochs=10, verbose=0)  # Adjust epochs and other hyperparameters as needed\n",
    "        train_acc = model_result.history['accuracy'][-1]\n",
    "\n",
    "        val_loss, val_accuracy = model.evaluate(X_val, y_val)\n",
    "\n",
    "        Train_acc.append(train_acc)\n",
    "        Val_acc.append(val_accuracy)\n",
    "\n",
    "    # Print average training and validation accuracy for each optimizer\n",
    "    avg_train_acc = np.mean(Train_acc)\n",
    "    avg_val_acc = np.mean(Val_acc)\n",
    "    \n",
    "    result_opt.append({\n",
    "    'Optimizer': optimizer,\n",
    "    'Training_Accuracy': np.mean(avg_train_acc),\n",
    "    'Validation_Accuracy': np.mean(avg_val_acc)\n",
    "    })\n",
    "\n",
    "\n"
   ]
  },
  {
   "cell_type": "code",
   "execution_count": 30,
   "id": "6af1b6d9-7149-43d7-b655-40de214efa9e",
   "metadata": {
    "tags": []
   },
   "outputs": [
    {
     "name": "stdout",
     "output_type": "stream",
     "text": [
      "  Optimizer  Training_Accuracy  Validation_Accuracy\n",
      "0       SGD             0.2725                0.253\n",
      "1      Adam             1.0000                0.949\n",
      "2   RMSprop             1.0000                0.948\n"
     ]
    }
   ],
   "source": [
    "result_opt_df = pd.DataFrame(result_opt)\n",
    "print(result_opt_df)"
   ]
  },
  {
   "cell_type": "markdown",
   "id": "75131f98-4dbb-4879-854a-01a6d9bc0b2b",
   "metadata": {},
   "source": [
    "**Plot a graph to visualize Training and Validation accuracy trends w.r.t optimizers**"
   ]
  },
  {
   "cell_type": "code",
   "execution_count": 31,
   "id": "8b3f2bc8-bf65-4a42-9628-2db4e20e03e4",
   "metadata": {
    "tags": []
   },
   "outputs": [
    {
     "data": {
      "image/png": "[encoded data removed]",
      "text/plain": [
       "<Figure size 1600x600 with 1 Axes>"
      ]
     },
     "metadata": {},
     "output_type": "display_data"
    }
   ],
   "source": [
    "\n",
    "parameters = ['SGD', 'Adam', 'RMSprop']\n",
    "train_acc = result_opt_df['Training_Accuracy'].tolist()\n",
    "val_acc = result_opt_df['Validation_Accuracy'].tolist()\n",
    "# train_acc = [np.mean(Train_acc_count), np.mean(Train_acc_tfidf),np.mean(Train_acc_bert), np.mean(Train_acc_Glove)]\n",
    "# val_acc = [np.mean(Val_acc_count), np.mean(Val_acc_tfidf),np.mean(Val_acc_bert), np.mean(Val_acc_Glove)]\n",
    "\n",
    "width = 0.35\n",
    "x = np.arange(len(parameters))\n",
    "fig, ax = plt.subplots(figsize=(16, 6))\n",
    "ax.bar(x - width/2, train_acc, width, label='Training Accuracy')\n",
    "ax.bar(x + width/2, val_acc, width, label='Validation Accuracy')\n",
    "ax.set_xlabel('Feature Extraction Methods')\n",
    "ax.set_ylabel('Accuracy')\n",
    "ax.set_title('Training and Validation Accuracies by Feature Extraction Method')\n",
    "ax.set_xticks(x)\n",
    "ax.set_xticklabels(parameters)\n",
    "ax.legend()\n",
    "plt.show()"
   ]
  },
  {
   "cell_type": "code",
   "execution_count": 32,
   "id": "27f12e9f-75ec-47b3-aa7b-29ca85917dfd",
   "metadata": {
    "tags": []
   },
   "outputs": [
    {
     "data": {
      "text/plain": [
       "array([[0., 0., 0., 1., 0.],\n",
       "       [1., 0., 0., 0., 0.],\n",
       "       [0., 0., 0., 1., 0.],\n",
       "       ...,\n",
       "       [0., 0., 0., 1., 0.],\n",
       "       [0., 1., 0., 0., 0.],\n",
       "       [0., 1., 0., 0., 0.]], dtype=float32)"
      ]
     },
     "execution_count": 32,
     "metadata": {},
     "output_type": "execute_result"
    }
   ],
   "source": [
    "y_train_one_hot"
   ]
  },
  {
   "cell_type": "code",
   "execution_count": 33,
   "id": "cb6870b3-05d9-4b80-88e7-eac14187cbaa",
   "metadata": {
    "tags": []
   },
   "outputs": [
    {
     "name": "stdout",
     "output_type": "stream",
     "text": [
      "0    0.946\n",
      "1    0.951\n",
      "2    0.937\n",
      "3    0.968\n",
      "Name: Avg_Val_Acc, dtype: float64\n"
     ]
    }
   ],
   "source": [
    "values = result_df['Avg_Val_Acc']\n",
    "print(values)\n",
    "keys = result_df['Feature']\n",
    "lis = [(values[i], keys[i]) for i in range(3)]\n",
    "lis.sort(reverse = True)\n",
    "ans = lis[0][1]\n",
    "feature = np.array(data[ans].tolist()) "
   ]
  },
  {
   "cell_type": "markdown",
   "id": "dabc140e-bbf4-41bf-85ee-799cfa94af83",
   "metadata": {},
   "source": [
    "**Select model parameters with best accuracies using GridSearch**"
   ]
  },
  {
   "cell_type": "code",
   "execution_count": 34,
   "id": "6183ceb5-00eb-46bd-9de3-d8cbd9ea8b44",
   "metadata": {
    "tags": []
   },
   "outputs": [
    {
     "name": "stdout",
     "output_type": "stream",
     "text": [
      "Reloading Tuner from ./untitled_project/tuner0.json\n",
      "Best Hyperparameters: <keras_tuner.src.engine.hyperparameters.hyperparameters.HyperParameters object at 0x2dc9a5610>\n"
     ]
    }
   ],
   "source": [
    "# !pip install keras-tuner\n",
    "\n",
    "X_train, X_valid, Y_train, Y_valid = train_test_split(feature, y_train_one_hot, test_size=0.2, random_state=42)\n",
    "\n",
    "def createModel(input_dim):\n",
    "    input_text = Input(shape=(input_dim,))\n",
    "    hidden1 = Dense(128, activation='relu')(input_text)\n",
    "    hidden2 = Dense(128, activation='relu')(hidden1)\n",
    "    output = Dense(num_classes, activation='softmax')(hidden2)\n",
    "    model = Model(inputs=input_text, outputs=output)\n",
    "    return model\n",
    "\n",
    "def build_model(hp):\n",
    "    model = createModel(feature.shape[1])\n",
    "    hp_optimizer = hp.Choice('optimizer', ['SGD', 'Adam', 'RMSprop'])\n",
    "    hp_learning_rate = hp.Choice('learning_rate', [ 0.0001, 0.0003, 0.001, 0.003, 0.01, 0.03, 0.1, 0.2])\n",
    "\n",
    "    if hp_optimizer == 'Adam':\n",
    "        optimizer = Adam(learning_rate=hp_learning_rate)\n",
    "    elif hp_optimizer == 'SGD':\n",
    "        optimizer = SGD(learning_rate=hp_learning_rate)\n",
    "    else:\n",
    "        optimizer = RMSprop(learning_rate=hp_learning_rate)\n",
    "\n",
    "    model.compile(optimizer=optimizer,\n",
    "                  loss='categorical_crossentropy',\n",
    "                  metrics=['accuracy'])\n",
    "    return model\n",
    "\n",
    "# Initialize tuner\n",
    "tuner = GridSearch(\n",
    "    build_model,\n",
    "    tune_new_entries=True,\n",
    "    objective='val_accuracy',\n",
    "    max_trials=30,\n",
    "    executions_per_trial=5\n",
    ")\n",
    "\n",
    "# Start the search for best hyperparameters\n",
    "tuner.search(X_train, Y_train,\n",
    "             epochs=10,\n",
    "             validation_data=(X_valid, Y_valid))\n",
    "\n",
    "# Get the best hyperparameters\n",
    "best_hps = tuner.get_best_hyperparameters()[0]\n",
    "#print(f\"Best Hyperparameters: {best_hps.values}\")\n",
    "print(f\"Best Hyperparameters: {best_hps}\")"
   ]
  },
  {
   "cell_type": "code",
   "execution_count": 35,
   "id": "977e5ef6-825f-4e8a-b7c7-5547162a85ca",
   "metadata": {
    "tags": []
   },
   "outputs": [
    {
     "name": "stdout",
     "output_type": "stream",
     "text": [
      "Hyperparameters: {'optimizer': 'RMSprop', 'learning_rate': 0.003}\n",
      "Hyperparameters: {'optimizer': 'RMSprop', 'learning_rate': 0.001}\n"
     ]
    }
   ],
   "source": [
    "best_trials = tuner.oracle.get_best_trials(num_trials=2)\n",
    "\n",
    "for trial in best_trials:\n",
    "    print(\"Hyperparameters:\", trial.hyperparameters.values)"
   ]
  },
  {
   "cell_type": "markdown",
   "id": "9bc5a194-6336-4ffb-b0de-fa4ca798ca15",
   "metadata": {},
   "source": [
    "**Train and Validate the chosen model to predict labels for test data**"
   ]
  },
  {
   "cell_type": "code",
   "execution_count": 36,
   "id": "e8e98a7b-f17d-4761-a353-e711dbcb44b4",
   "metadata": {},
   "outputs": [
    {
     "name": "stderr",
     "output_type": "stream",
     "text": [
      "WARNING:absl:At this time, the v2.11+ optimizer `tf.keras.optimizers.RMSprop` runs slowly on M1/M2 Macs, please use the legacy Keras optimizer instead, located at `tf.keras.optimizers.legacy.RMSprop`.\n"
     ]
    },
    {
     "name": "stdout",
     "output_type": "stream",
     "text": [
      "Epoch 1/10\n",
      "25/25 [==============================] - 0s 847us/step - loss: 2.9655e-04 - accuracy: 1.0000\n",
      "Epoch 2/10\n",
      "25/25 [==============================] - 0s 681us/step - loss: 2.3009e-04 - accuracy: 1.0000\n",
      "Epoch 3/10\n",
      "25/25 [==============================] - 0s 702us/step - loss: 1.9003e-04 - accuracy: 1.0000\n",
      "Epoch 4/10\n",
      "25/25 [==============================] - 0s 692us/step - loss: 1.6037e-04 - accuracy: 1.0000\n",
      "Epoch 5/10\n",
      "25/25 [==============================] - 0s 719us/step - loss: 1.3558e-04 - accuracy: 1.0000\n",
      "Epoch 6/10\n",
      "25/25 [==============================] - 0s 701us/step - loss: 1.2232e-04 - accuracy: 1.0000\n",
      "Epoch 7/10\n",
      "25/25 [==============================] - 0s 677us/step - loss: 1.0827e-04 - accuracy: 1.0000\n",
      "Epoch 8/10\n",
      "25/25 [==============================] - 0s 725us/step - loss: 9.6157e-05 - accuracy: 1.0000\n",
      "Epoch 9/10\n",
      "25/25 [==============================] - 0s 684us/step - loss: 8.7159e-05 - accuracy: 1.0000\n",
      "Epoch 10/10\n",
      "25/25 [==============================] - 0s 668us/step - loss: 8.0489e-05 - accuracy: 1.0000\n",
      "7/7 [==============================] - 0s 496us/step\n",
      "Accuracy: 0.96\n",
      "Precision: 0.9618393483709272\n",
      "Recall: 0.96\n",
      "F1-score: 0.9601441767001727\n",
      "Confusion Matrix:\n",
      "[[41  1  1  1  0]\n",
      " [ 0 31  1  0  0]\n",
      " [ 1  0 36  0  0]\n",
      " [ 0  0  0 49  0]\n",
      " [ 0  3  0  0 35]]\n"
     ]
    }
   ],
   "source": [
    "# data = pd.read_csv('news-test.csv')\n",
    "Y = data['Category']\n",
    "X_train, X_valid, Y_train, Y_valid = train_test_split(feature, Y, test_size=0.2, random_state=42)\n",
    "label_encoder = LabelEncoder()\n",
    "y_train_encoded = label_encoder.fit_transform(Y_train)\n",
    "y_val_encoded = label_encoder.transform(Y_valid)\n",
    "Y_train_one_hot = to_categorical(y_train_encoded, num_classes=len(label_encoder.classes_))\n",
    "Y_val_one_hot = to_categorical(y_val_encoded, num_classes=len(label_encoder.classes_))\n",
    "\n",
    "\n",
    "best_model = tuner.get_best_models(num_models=1)[0]\n",
    "best_model.fit(X_train, Y_train_one_hot, epochs=10)\n",
    "predictions = best_model.predict(X_valid)\n",
    "y_pred = np.argmax(predictions, axis=1)\n",
    "y_pred_decoded = label_encoder.inverse_transform(y_pred)\n",
    "\n",
    "# Calculate metrics\n",
    "accuracy = accuracy_score(Y_valid, y_pred_decoded)\n",
    "precision = precision_score(Y_valid, y_pred_decoded, average='weighted')\n",
    "recall = recall_score(Y_valid, y_pred_decoded, average='weighted')\n",
    "f1 = f1_score(Y_valid, y_pred_decoded, average='weighted')\n",
    "conf_matrix = confusion_matrix(Y_valid, y_pred_decoded)\n",
    "\n",
    "# Print metrics\n",
    "print(f\"Accuracy: {accuracy}\")\n",
    "print(f\"Precision: {precision}\")\n",
    "print(f\"Recall: {recall}\")\n",
    "print(f\"F1-score: {f1}\")\n",
    "print(\"Confusion Matrix:\")\n",
    "print(conf_matrix)"
   ]
  },
  {
   "cell_type": "code",
   "execution_count": 37,
   "id": "e5ea8a9a-0916-469a-970b-4d2b278efa7e",
   "metadata": {
    "tags": []
   },
   "outputs": [
    {
     "data": {
      "text/plain": [
       "array([[0.        , 0.        , 0.        , ..., 0.        , 0.        ,\n",
       "        0.        ],\n",
       "       [0.        , 0.        , 0.        , ..., 0.        , 0.        ,\n",
       "        0.        ],\n",
       "       [0.        , 0.        , 0.        , ..., 0.        , 0.        ,\n",
       "        0.        ],\n",
       "       ...,\n",
       "       [0.        , 0.        , 0.        , ..., 0.        , 0.        ,\n",
       "        0.        ],\n",
       "       [0.        , 0.        , 0.        , ..., 0.        , 0.        ,\n",
       "        0.        ],\n",
       "       [0.        , 0.        , 0.        , ..., 0.31905342, 0.        ,\n",
       "        0.        ]])"
      ]
     },
     "execution_count": 37,
     "metadata": {},
     "output_type": "execute_result"
    }
   ],
   "source": [
    "feature_test"
   ]
  },
  {
   "cell_type": "code",
   "execution_count": 38,
   "id": "c2e76340-97f7-4536-9125-c3a80cfd5b63",
   "metadata": {},
   "outputs": [
    {
     "name": "stdout",
     "output_type": "stream",
     "text": [
      "23/23 [==============================] - 0s 327us/step\n"
     ]
    }
   ],
   "source": [
    "\n",
    "predictions = best_model.predict(feature_test)\n",
    "y_pred = np.argmax(predictions, axis=1)\n",
    "y_train_decoded = label_encoder.inverse_transform(y_pred)\n",
    "test['predictedLabel'] = y_train_decoded\n",
    "test[['ArticleId', 'predictedLabel']].to_csv(\"labels.csv\", header=False, index=False)"
   ]
  },
  {
   "cell_type": "code",
   "execution_count": null,
   "id": "8867cf35-c62e-4d3f-9154-f4e1829e924f",
   "metadata": {},
   "outputs": [],
   "source": []
  }
 ],
 "metadata": {
  "kernelspec": {
   "display_name": "Python 3 (ipykernel)",
   "language": "python",
   "name": "python3"
  },
  "language_info": {
   "codemirror_mode": {
    "name": "ipython",
    "version": 3
   },
   "file_extension": ".py",
   "mimetype": "text/x-python",
   "name": "python",
   "nbconvert_exporter": "python",
   "pygments_lexer": "ipython3",
   "version": "3.11.3"
  }
 },
 "nbformat": 4,
 "nbformat_minor": 5
}
